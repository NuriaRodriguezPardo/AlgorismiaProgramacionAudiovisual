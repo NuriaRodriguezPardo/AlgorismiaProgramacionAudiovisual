{
 "cells": [
  {
   "cell_type": "markdown",
   "metadata": {},
   "source": [
    "# Montar una aplicación II"
   ]
  },
  {
   "cell_type": "markdown",
   "metadata": {},
   "source": [
    "## Algúnos artilugios básicos y su posicionado "
   ]
  },
  {
   "cell_type": "code",
   "execution_count": 3,
   "metadata": {},
   "outputs": [],
   "source": [
    "import tkinter as tk"
   ]
  },
  {
   "cell_type": "code",
   "execution_count": 2,
   "metadata": {},
   "outputs": [],
   "source": [
    "win = tk.Tk()"
   ]
  },
  {
   "cell_type": "code",
   "execution_count": 6,
   "metadata": {},
   "outputs": [
    {
     "data": {
      "text/plain": [
       "tkinter.Tk"
      ]
     },
     "execution_count": 6,
     "metadata": {},
     "output_type": "execute_result"
    }
   ],
   "source": [
    "type(win)"
   ]
  },
  {
   "cell_type": "code",
   "execution_count": 5,
   "metadata": {},
   "outputs": [],
   "source": [
    "win.mainloop()"
   ]
  },
  {
   "cell_type": "raw",
   "metadata": {
    "vscode": {
     "languageId": "raw"
    }
   },
   "source": [
    "PALETA\n",
    "F6BD60  AMARILLO\n",
    "F7EDE2  BEIGE \n",
    "F5CAC3  ROSA\n",
    "84A59D  VERDE\n",
    "F28482  ROJO"
   ]
  },
  {
   "cell_type": "code",
   "execution_count": 28,
   "metadata": {},
   "outputs": [],
   "source": [
    "win = tk.Tk()\n",
    "\n",
    "opcions = dict(\n",
    "    background = '#F5CAC3',\n",
    "    cursor = 'bogosity',\n",
    "    relief = tk.SUNKEN,\n",
    "    font = ('Times New Roman', 20)\n",
    ")\n",
    "\n",
    "# etiq = tk.Label(win, activebackground = 'Tomato', cursor = 'boat', relief = tk.RIDGE, text = 'hola, molt bona tarda :)', font = ('calibri', 20))\n",
    "etiq2 = tk.Label(win, text = 'hola, molt bona tarda :(', **opcions)\n",
    "\n",
    "etiq2.pack()\n",
    "win.mainloop()\n"
   ]
  },
  {
   "cell_type": "code",
   "execution_count": 21,
   "metadata": {},
   "outputs": [],
   "source": [
    "win = tk.Tk()\n",
    "\n",
    "gatito = tk.PhotoImage(file = 'gatito3.png')\n",
    "\n",
    "opcions = dict(\n",
    "    background = '#F5CAC3',\n",
    "    cursor = 'bogosity',\n",
    "    relief = tk.SUNKEN,\n",
    "    font = ('Times New Roman', 20)\n",
    ")\n",
    "\n",
    "etiq = tk.Label(win, activebackground = 'Tomato', cursor = 'boat', relief = tk.RIDGE, text = 'hola, molt bona tarda :)', font = ('calibri', 20))\n",
    "etiq2 = tk.Label(win, text = 'hola, molt bona tarda :(', **opcions, image = gatito, compound = tk.TOP)\n",
    "# etiq.pack(side = tk.LEFT)\n",
    "# etiq2.pack(side = tk.LEFT) # side indica por dónde se apila, si ponemos dos a la izquierda uno queda a la derecha del todo \n",
    "\n",
    "# No se aconseja mezclar metodos de posicionamiento. \n",
    "etiq.grid(row = 10, column = 10)\n",
    "etiq2.grid(row = 20, column = 20)\n",
    "\n",
    "win.mainloop()\n"
   ]
  },
  {
   "cell_type": "code",
   "execution_count": 20,
   "metadata": {},
   "outputs": [],
   "source": [
    "win = tk.Tk()\n",
    "frame = tk.Frame(win, background = '#84A59D')\n",
    "frame.pack(expand = 1)\n",
    "\n",
    "gatito = tk.PhotoImage(file = 'gatito3.png')\n",
    "\n",
    "opcions = dict(\n",
    "    background = '#F5CAC3',\n",
    "    cursor = 'bogosity',\n",
    "    relief = tk.SUNKEN,\n",
    "    font = ('Times New Roman', 20)\n",
    ")\n",
    "\n",
    "etiq = tk.Label(frame, activebackground = 'Tomato', cursor = 'boat', relief = tk.RIDGE, text = 'hola, molt bona tarda :)', font = ('calibri', 20))\n",
    "etiq2 = tk.Label(frame, text = 'hola, molt bona tarda :(', **opcions, image = gatito, compound = tk.TOP) \n",
    "\n",
    "# No se aconseja mezclar metodos de posicionamiento. \n",
    "etiq.grid(row = 10, column = 10)\n",
    "etiq2.grid(row = 20, column = 20)\n",
    "\n",
    "frame.mainloop()"
   ]
  },
  {
   "cell_type": "code",
   "execution_count": 33,
   "metadata": {},
   "outputs": [],
   "source": [
    "win = tk.Tk()\n",
    "lframe = tk.LabelFrame(win, text = 'esto es un label frame', **(opcions|{'background': 'DarkTurquoise'}), labelanchor = tk.N)\n",
    "lframe.pack(expand = 1)\n",
    "\n",
    "gatito = tk.PhotoImage(file = 'gatito3.png')\n",
    "\n",
    "opcions = dict(\n",
    "    background = '#F5CAC3',\n",
    "    cursor = 'bogosity',\n",
    "    relief = tk.SUNKEN,\n",
    "    font = ('Times New Roman', 20)\n",
    ")\n",
    "\n",
    "etiq = tk.Label(lframe, activebackground = 'Tomato', cursor = 'boat', relief = tk.RIDGE, text = 'hola, molt bona tarda :)', font = ('calibri', 20))\n",
    "etiq2 = tk.Label(lframe, text = 'hola, molt bona tarda :(', **opcions, image = gatito, compound = tk.TOP) \n",
    "\n",
    "# No se aconseja mezclar metodos de posicionamiento. \n",
    "etiq.grid(row = 10, column = 10)\n",
    "etiq2.grid(row = 20, column = 20)\n",
    "\n",
    "win.mainloop()"
   ]
  },
  {
   "cell_type": "code",
   "execution_count": 51,
   "metadata": {},
   "outputs": [],
   "source": [
    "win.mainloop()"
   ]
  },
  {
   "cell_type": "code",
   "execution_count": 55,
   "metadata": {},
   "outputs": [
    {
     "name": "stdout",
     "output_type": "stream",
     "text": [
      "Matamos al gato\n"
     ]
    }
   ],
   "source": [
    "win = tk.Tk()\n",
    "lframe = tk.LabelFrame(win, text = 'esto es un label frame', **(opcions|{'background': 'DarkTurquoise'}), labelanchor = tk.N)\n",
    "lframe.pack(expand = 1)\n",
    "\n",
    "gatito = tk.PhotoImage(file = 'gatito3.png')\n",
    "ratilla = tk.PhotoImage(file = 'ratilla.png')\n",
    "\n",
    "opcions = dict(\n",
    "    background = '#F5CAC3',\n",
    "    cursor = 'bogosity',\n",
    "    relief = tk.SUNKEN,\n",
    "    font = ('Times New Roman', 20)\n",
    ")\n",
    "\n",
    "etiq = tk.Label(lframe, activebackground = 'Tomato', cursor = 'boat', relief = tk.RIDGE, text = 'hola, molt bona tarda :)', font = ('calibri', 20))\n",
    "etiq3 = tk.Label(lframe, text = 'hola, molt bona tarda :(', **opcions, image = ratilla, compound = tk.TOP) \n",
    "etiq2 = tk.Label(lframe, text = 'hola, molt bona tarda :(', **opcions, image = gatito, compound = tk.TOP) \n",
    "\n",
    "\n",
    "# No se aconseja mezclar metodos de posicionamiento. \n",
    "etiq.grid(row = 10, column = 10)\n",
    "etiq3.grid(row = 20, column = 20)\n",
    "etiq2.grid(row = 20, column = 20)\n",
    "\n",
    "\n",
    "\n",
    "def MataGatito():\n",
    "    print('Matamos al gato')\n",
    "    # etiq2.destroy()\n",
    "    etiq3.grid_remove()\n",
    "\n",
    "button = tk.Button(lframe, text = '¿Matamos al bicho?', **opcions, command = MataGatito)\n",
    "# Vamos a asignar una acción. Con el botón tenemos el argumento \"command\", función sin argumentos que se acciona cuándo apretamos al botón.\n",
    "button.grid(row = 10, column = 20)\n",
    "\n",
    "win.mainloop()"
   ]
  },
  {
   "cell_type": "code",
   "execution_count": null,
   "metadata": {},
   "outputs": [],
   "source": []
  }
 ],
 "metadata": {
  "kernelspec": {
   "display_name": "Python 3",
   "language": "python",
   "name": "python3"
  },
  "language_info": {
   "codemirror_mode": {
    "name": "ipython",
    "version": 3
   },
   "file_extension": ".py",
   "mimetype": "text/x-python",
   "name": "python",
   "nbconvert_exporter": "python",
   "pygments_lexer": "ipython3",
   "version": "3.12.3"
  }
 },
 "nbformat": 4,
 "nbformat_minor": 2
}
