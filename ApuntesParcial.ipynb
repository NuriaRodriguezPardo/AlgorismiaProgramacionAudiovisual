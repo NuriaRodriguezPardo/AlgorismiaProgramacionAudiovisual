{
 "cells": [
  {
   "cell_type": "markdown",
   "metadata": {},
   "source": [
    "# Apuntes parcial.\n",
    "## For y iteradores\n"
   ]
  },
  {
   "cell_type": "code",
   "execution_count": 43,
   "metadata": {},
   "outputs": [
    {
     "name": "stdout",
     "output_type": "stream",
     "text": [
      "red\n",
      "blue\n",
      "red\n"
     ]
    }
   ],
   "source": [
    "colors = ['red', 'blue', 'red']\n",
    "for color in colors:\n",
    "  print (color)"
   ]
  },
  {
   "cell_type": "code",
   "execution_count": 44,
   "metadata": {},
   "outputs": [
    {
     "name": "stdout",
     "output_type": "stream",
     "text": [
      "red\n",
      "blue\n",
      "red\n"
     ]
    },
    {
     "ename": "KeyboardInterrupt",
     "evalue": "",
     "output_type": "error",
     "traceback": [
      "\u001b[31m---------------------------------------------------------------------------\u001b[39m",
      "\u001b[31mKeyboardInterrupt\u001b[39m                         Traceback (most recent call last)",
      "\u001b[36mCell\u001b[39m\u001b[36m \u001b[39m\u001b[32mIn[44]\u001b[39m\u001b[32m, line 6\u001b[39m\n\u001b[32m      4\u001b[39m     \u001b[38;5;28mprint\u001b[39m(\u001b[38;5;28mnext\u001b[39m(iterador))\n\u001b[32m      5\u001b[39m \u001b[38;5;28;01mexcept\u001b[39;00m \u001b[38;5;167;01mStopIteration\u001b[39;00m:\n\u001b[32m----> \u001b[39m\u001b[32m6\u001b[39m     \u001b[38;5;28;01mpass\u001b[39;00m\n",
      "\u001b[31mKeyboardInterrupt\u001b[39m: "
     ]
    }
   ],
   "source": [
    "iterador = iter(colors)\n",
    "while True:\n",
    "    try:\n",
    "        print(next(iterador))\n",
    "    except StopIteration:\n",
    "        pass"
   ]
  },
  {
   "cell_type": "markdown",
   "metadata": {},
   "source": [
    "## Clases \n",
    "### Clase de vector\n",
    "Un vector es un conjunto de valores ordenados y ordinalizados"
   ]
  },
  {
   "cell_type": "code",
   "execution_count": 7,
   "metadata": {},
   "outputs": [
    {
     "data": {
      "text/plain": [
       "[1, 2, 3, 4, 5, 6, 7, 8]"
      ]
     },
     "execution_count": 7,
     "metadata": {},
     "output_type": "execute_result"
    }
   ],
   "source": [
    "# Vector normal:\n",
    "v1 = [1, 2, 3, 4]\n",
    "v2 = [5, 6, 7, 8]\n",
    "v1 + v2"
   ]
  },
  {
   "cell_type": "raw",
   "metadata": {
    "vscode": {
     "languageId": "raw"
    }
   },
   "source": [
    "vector = []\n",
    "for elemento in iterable :\n",
    "    vector.append(elemento)\n",
    "\n",
    "ÉS LO MISMO QUE DECIR: \n",
    "[expression for elemento in iterable if condición]\n",
    "\n",
    "vector = [elemento for elemento in iterable if True]\n",
    "vector = [elemento for elemento in iterable] # es lo mismo que si pongo al final if True"
   ]
  },
  {
   "cell_type": "markdown",
   "metadata": {},
   "source": [
    "En otro fichero, tenemos la clase ``vector.py``. \n",
    "```py\n",
    "    class Vector: \n",
    "        def __init__(self, iterable): # inicializamos el constructor con un iterable\n",
    "            self._vector = [elemento for elemento in iterable]\n",
    "            # con un _objeto es privado \n",
    "            # con un __objeto es aún más privado\n",
    "            # return None # puedes no poner nada, porque no retorna nada igualmente o poner return a secas \n",
    "\n",
    "        def __repr__(self): \n",
    "            return f\"vector({self._vector})\"\n",
    "        \n",
    "        def __str__(self): # representación bonita\n",
    "            cadena = \"[\"\n",
    "            for elemento in self._vector:\n",
    "                cadena += f\" {elemento}\"\n",
    "            cadena += f\" ]\"\n",
    "            return cadena\n",
    "        \n",
    "        def __getitem__(self, index):\n",
    "            return self._vector[index]\n",
    "        \n",
    "        def __setitem__(self, index, valor):\n",
    "            self._vector[index] = valor\n",
    "\n",
    "        def __len__(self):\n",
    "            return len(self._vector)\n",
    "        \n",
    "        def __add__(self, otro):\n",
    "            if isinstance(otro, (int, float, complex)):\n",
    "                return Vector([elemento + otro for elemento in self._vector])\n",
    "            else :\n",
    "                return Vector([num1+num2 for num1, num2 in zip(self, otro)]) # zip es un objeto que nos permite recorrer dos iterables al mismo tiempo\n",
    "            \n",
    "        __radd__ = __add__ # para que pueda sumar de manera commutativa los iterables con el vector\n",
    "```\n"
   ]
  },
  {
   "cell_type": "raw",
   "metadata": {
    "vscode": {
     "languageId": "raw"
    }
   },
   "source": [
    ">>> Vector([3,4,5,6,7,8,9])\n",
    ">>> v = Vector(range(12,16))\n",
    ">>> print(v)\n",
    "vector([12, 13, 14, 15])\n",
    ">>> repr(v)\n",
    "'vector([12, 13, 14, 15])'\n",
    ">>> str(v)\n",
    "'vector([12, 13, 14, 15])'\n",
    ">>> v[0]\n",
    "12\n",
    "\n",
    "Ahora podremos coger el valor 0 de la lista y hacer lonchas \n",
    ">>> v[0:9:2]\n",
    "[12, 14]\n",
    "\n",
    ">>> for x in v: \n",
    "...     print(x)\n",
    "12\n",
    "13\n",
    "14\n",
    "15\n"
   ]
  },
  {
   "cell_type": "markdown",
   "metadata": {},
   "source": [
    "Con el add: \n",
    "operando1 operador operando2 llama a operando.__operador__(operando2)     \n",
    "``+`` -> ``__add__``    \n",
    "``-`` -> ``__sub__``    \n",
    "``*`` -> ``__mul__``    \n",
    "``/`` -> ``__truediv__``    \n",
    "``%`` -> ``__mod__``      \n",
    "``**`` -> ``__pow__``    "
   ]
  },
  {
   "cell_type": "raw",
   "metadata": {
    "vscode": {
     "languageId": "raw"
    }
   },
   "source": [
    ">>> v = Vector([1,2,3,4])\n",
    ">>> v + 36\n",
    "vector([37, 38, 39, 40])\n",
    "\n",
    ">>> v + {1, 2, 44} # te lo devuelve con la longitud del iterable\n",
    "vector([2, 4, 47])\n",
    "\n",
    "operando2.__roperador__(operando1)\n",
    "Si esta operación da error a no implemented, da la vuelta para si implemented.\n",
    "\n",
    "Vector.__radd__(other, self)"
   ]
  },
  {
   "cell_type": "markdown",
   "metadata": {},
   "source": [
    "## Programación funcional o no \n",
    "Una función pura no tiene efectos colaterales ni cambian internamente la función. Print no es una función pura, a si que lo es.   \n",
    "Programación funcional -> aquella programación que se basa en funciones, una función para dado un número de argumentos da siempre el mismo resultado para esos argumentos.     \n",
    "Python es un lengiaje de programación orientado a objeto puro, por lo tanto, es contrario a la programación funcional puro, pero también hay programación funcional en Python.     \n",
    "Por ejemplo la ejecución perezosa,      \n",
    "   \n"
   ]
  },
  {
   "cell_type": "raw",
   "metadata": {
    "vscode": {
     "languageId": "raw"
    }
   },
   "source": [
    "primo1, primo2 = descompon(clave)     \n",
    "desencriptado = desencripta(mensaje)     \n",
    "print(desencriptado)\n",
    "\n",
    "mensaje = Lee()\n",
    "primo1, primo2 = descompon(clave) \n",
    "desencriptado = desencripta(mensaje, primo1, primo2)\n",
    "print(desencriptado)"
   ]
  },
  {
   "cell_type": "raw",
   "metadata": {
    "vscode": {
     "languageId": "raw"
    }
   },
   "source": [
    "generador -> es una función que en lugar de tener solamente return, tiene return y yeld. \n",
    "def generador\n",
    "|\n",
    "|\n",
    "yield valor (me retorna el valor que corresponda) \n",
    "|\n",
    "|\n",
    "return -- raise stop iteration"
   ]
  },
  {
   "cell_type": "markdown",
   "metadata": {},
   "source": [
    "## Lambda anónima"
   ]
  },
  {
   "cell_type": "code",
   "execution_count": 9,
   "metadata": {},
   "outputs": [
    {
     "data": {
      "text/plain": [
       "16"
      ]
     },
     "execution_count": 9,
     "metadata": {},
     "output_type": "execute_result"
    }
   ],
   "source": [
    "# lambda anónima\n",
    "lambda x, y, z: x + y + z # \"no sirve para nada\" -> Albino 2025\n",
    "suma_3 = lambda x, y, z: x + y + z\n",
    "suma_3(3, 5, 8)"
   ]
  },
  {
   "cell_type": "raw",
   "metadata": {
    "vscode": {
     "languageId": "raw"
    }
   },
   "source": [
    "APLICACIONES PARA LAMBDA ANÓNIMA: \n",
    "map(function, iterable, ...)\n",
    "    - > evaluación perezosa\n",
    "    función (iterable1[0], iterable2[0])\n",
    "    función(iterable1[1], \n",
    "filter()\n",
    "reduce()"
   ]
  },
  {
   "cell_type": "code",
   "execution_count": 12,
   "metadata": {},
   "outputs": [],
   "source": [
    "suma = map(int.__add__, range(10), range(0, 20, 2))"
   ]
  },
  {
   "cell_type": "raw",
   "metadata": {
    "vscode": {
     "languageId": "raw"
    }
   },
   "source": [
    "NOS TIENE QUE DAR LOS MÚLTIPLOS DE 3.\n",
    "0 0 -> 0\n",
    "1 2 -> 3\n",
    "2 4 -> 6\n",
    "3 6 -> 9 \n",
    "9"
   ]
  },
  {
   "cell_type": "code",
   "execution_count": 13,
   "metadata": {},
   "outputs": [
    {
     "data": {
      "text/plain": [
       "0"
      ]
     },
     "execution_count": 13,
     "metadata": {},
     "output_type": "execute_result"
    }
   ],
   "source": [
    "next(suma)"
   ]
  },
  {
   "cell_type": "markdown",
   "metadata": {},
   "source": [
    "## Generadores y comprensión\n",
    "### Comprensión\n",
    "``expressión for elemento in contenedor if condición``\n",
    "- True - mete la expressión del elemento\n",
    "- False - no mete la expresión del elemento\n",
    "## Expresión generadora\n",
    "``expresión for elemento in contenedor if condición``\n",
    "- Proporciona iterador\n",
    "\n",
    "### Generador que genera números primos: \n",
    "```raw\n",
    "    >>> %run primos.py\n",
    "    >>> primos = (numero for numero in range(0, 9999999) if esPrimo(numero))\n",
    "    >>> next(primos)\n",
    "    19\n",
    "```\n",
    "**Funciones anónimas (lambda)**\n",
    "lambda argumentos: expresión\n",
    "- (expresión simple)\n",
    "\n",
    "**Funciones orden superior**\n",
    "- Toma cómo argumento otra funcion o cómo valor de salida \n",
    "\n",
    "**Función map:**\n",
    "- Devuelve en forma de iterador, funcion con los elementos de los iteradores"
   ]
  },
  {
   "cell_type": "code",
   "execution_count": 15,
   "metadata": {},
   "outputs": [],
   "source": [
    "nombres = [\"Montserrat\", \"Martí\", \"Tomás\", \"Josep\"]\n",
    "apellidos = [\"Cuevas\", \"Dominguez\", \"Lloret\", \"Esquerrá\"]\n",
    "iden = [12554, 69420, 54321, 10101]\n",
    "alumnos = map(print, nombres, apellidos, iden)\n",
    "numeros = [\"zero\", \"u\", \"dos\", \"tres\"]"
   ]
  },
  {
   "cell_type": "code",
   "execution_count": 16,
   "metadata": {},
   "outputs": [
    {
     "name": "stdout",
     "output_type": "stream",
     "text": [
      "ZERO\n",
      "U\n",
      "DOS\n",
      "TRES\n"
     ]
    }
   ],
   "source": [
    "# MAP\n",
    "NUMEROS = map(lambda s: s.upper(), numeros)\n",
    "for NUMERO in NUMEROS: print(NUMERO)"
   ]
  },
  {
   "cell_type": "code",
   "execution_count": 17,
   "metadata": {},
   "outputs": [
    {
     "name": "stdout",
     "output_type": "stream",
     "text": [
      "Sin if\n",
      "ZERO\n",
      "U\n",
      "DOS\n",
      "TRES\n",
      "\n",
      "Con if\n",
      "ZERO\n",
      "TRES\n"
     ]
    }
   ],
   "source": [
    "# COMPRENSIÓN\n",
    "NUMEROS2 = (s.upper() for s in numeros)\n",
    "print(\"Sin if\")\n",
    "for NUMERO in NUMEROS2: print(NUMERO)\n",
    "# Podemos utilizar un if\n",
    "print(\"\\nCon if\")\n",
    "NUMEROS3 = (s.upper() for s in numeros if len(s)>3)\n",
    "for NUMERO in NUMEROS3: print(NUMERO)"
   ]
  },
  {
   "cell_type": "markdown",
   "metadata": {},
   "source": [
    "## Filter: \n",
    "filter -> función iterables.\n",
    "\n",
    "``filter(function, iterables...)``\n",
    "La salida será un booleano.     \n",
    "True -> se muestra en pantalla     \n",
    "False -> no se muestra en pantalla    "
   ]
  },
  {
   "cell_type": "code",
   "execution_count": 21,
   "metadata": {},
   "outputs": [
    {
     "data": {
      "text/plain": [
       "0"
      ]
     },
     "execution_count": 21,
     "metadata": {},
     "output_type": "execute_result"
    }
   ],
   "source": [
    "quintos = filter(lambda x: not x%5, range(40)) # evalua a true quando es multiple de 5 y false en caso contrario\n",
    "next(quintos) # CUANDO SE ACABE (PASA DE 40 DA ERROR)"
   ]
  },
  {
   "cell_type": "code",
   "execution_count": 22,
   "metadata": {},
   "outputs": [
    {
     "name": "stdout",
     "output_type": "stream",
     "text": [
      "0\n",
      "5\n",
      "10\n",
      "15\n",
      "20\n",
      "25\n",
      "30\n",
      "35\n"
     ]
    }
   ],
   "source": [
    "# no podemos generar una expresión de la variable, no permite transformarlos.\n",
    "quintos = filter(lambda x: not x%5, range(40))\n",
    "for numero in quintos:\n",
    "    print(numero)"
   ]
  },
  {
   "cell_type": "code",
   "execution_count": 23,
   "metadata": {},
   "outputs": [
    {
     "name": "stdout",
     "output_type": "stream",
     "text": [
      "0\n",
      "5\n",
      "10\n",
      "15\n",
      "20\n",
      "25\n",
      "30\n",
      "35\n"
     ]
    }
   ],
   "source": [
    "# combinación de filter y map\n",
    "quintos = (x for x in range(40) if not x%5)\n",
    "for numero in quintos: print(numero)"
   ]
  },
  {
   "cell_type": "markdown",
   "metadata": {},
   "source": [
    "map filter y reduce pertenecen a la santíssima trinidad de funciones de la programación. \n",
    "## Reduce\n",
    "- Reduce aplica la función a los 2 primeros elementos de la función y después.    "
   ]
  },
  {
   "cell_type": "code",
   "execution_count": 24,
   "metadata": {},
   "outputs": [],
   "source": [
    "from functools import reduce"
   ]
  },
  {
   "cell_type": "code",
   "execution_count": 26,
   "metadata": {},
   "outputs": [],
   "source": [
    "def factorial(n):\n",
    "    return reduce(lambda x,y: x*y, range(2, n+1))\n"
   ]
  },
  {
   "cell_type": "code",
   "execution_count": 27,
   "metadata": {},
   "outputs": [
    {
     "data": {
      "text/plain": [
       "3628800"
      ]
     },
     "execution_count": 27,
     "metadata": {},
     "output_type": "execute_result"
    }
   ],
   "source": [
    "factorial(10)"
   ]
  },
  {
   "cell_type": "code",
   "execution_count": 28,
   "metadata": {},
   "outputs": [
    {
     "name": "stdout",
     "output_type": "stream",
     "text": [
      "2! = 2\n",
      "3! = 6\n",
      "4! = 24\n",
      "5! = 120\n",
      "6! = 720\n",
      "7! = 5040\n",
      "8! = 40320\n",
      "9! = 362880\n"
     ]
    }
   ],
   "source": [
    "for n in range(2, 10): \n",
    "    print(f\"{n}! = {factorial(n)}\")"
   ]
  },
  {
   "cell_type": "markdown",
   "metadata": {},
   "source": [
    "## Ordenación\n",
    "### sorted\n",
    "El método `sorted()` devuelve una lista ordenada de los elementos de una lista."
   ]
  },
  {
   "cell_type": "code",
   "execution_count": 29,
   "metadata": {},
   "outputs": [
    {
     "data": {
      "text/plain": [
       "['dos', 'tres', 'u', 'zero']"
      ]
     },
     "execution_count": 29,
     "metadata": {},
     "output_type": "execute_result"
    }
   ],
   "source": [
    "sorted(numeros)"
   ]
  },
  {
   "cell_type": "code",
   "execution_count": 30,
   "metadata": {},
   "outputs": [
    {
     "data": {
      "text/plain": [
       "['zero', 'tres', 'dos', 'u']"
      ]
     },
     "execution_count": 30,
     "metadata": {},
     "output_type": "execute_result"
    }
   ],
   "source": [
    "sorted(numeros, key = lambda s: s[::-1])"
   ]
  },
  {
   "cell_type": "code",
   "execution_count": 31,
   "metadata": {},
   "outputs": [
    {
     "data": {
      "text/plain": [
       "[Nombre: Tomas, Apellido: Lloret, Nota: 5,\n",
       " Nombre: Mark, Apellido: Bonete, Nota: 5,\n",
       " Nombre: Montserrat, Apellido: Cuevas, Nota: 10]"
      ]
     },
     "execution_count": 31,
     "metadata": {},
     "output_type": "execute_result"
    }
   ],
   "source": [
    "class Alumno: \n",
    "    def __init__(self, nombre, apellido, nota):\n",
    "        self. nombre, self.apellido, self.nota = nombre, apellido, nota\n",
    "    def __str__(self):\n",
    "        return f\"Nombre: {self.nombre}, Apellido: {self.apellido}, Nota: {self.nota}\"\n",
    "    __repr__ = __str__\n",
    "\n",
    "alumnos = [Alumno(\"Tomas\", \"Lloret\", 5), Alumno(\"Mark\", \"Bonete\", 5), Alumno(\"Montserrat\", \"Cuevas\", 10)]\n",
    "sorted(alumnos, key = lambda x: x.nota)"
   ]
  },
  {
   "cell_type": "markdown",
   "metadata": {},
   "source": [
    "## Invocación de un objeto cómo función: \n",
    "Cuándo invocamos a un objeto de la función utilizamos el método ``__call__``, por lo tanto, tenemos que implementarlo. "
   ]
  },
  {
   "cell_type": "code",
   "execution_count": 33,
   "metadata": {},
   "outputs": [
    {
     "data": {
      "text/plain": [
       "[Nombre: Tomas, Apellido: Lloret, Nota: 5,\n",
       " Nombre: Mark, Apellido: Bonete, Nota: 5,\n",
       " Nombre: Montserrat, Apellido: Cuevas, Nota: 10]"
      ]
     },
     "execution_count": 33,
     "metadata": {},
     "output_type": "execute_result"
    }
   ],
   "source": [
    "class Alumno: \n",
    "    def __init__(self, nombre, apellido, nota):\n",
    "        self. nombre, self.apellido, self.nota = nombre, apellido, nota\n",
    "    def __str__(self):\n",
    "        return f\"Nombre: {self.nombre}, Apellido: {self.apellido}, Nota: {self.nota}\"\n",
    "    __repr__ = __str__\n",
    "\n",
    "    def __call__(self, nota): \n",
    "        self.nota = nota\n",
    "\n",
    "alumnos = [Alumno(\"Tomas\", \"Lloret\", 5), Alumno(\"Mark\", \"Bonete\", 5), Alumno(\"Montserrat\", \"Cuevas\", 10)]\n",
    "sorted(alumnos, key = lambda x: x.nota)"
   ]
  },
  {
   "cell_type": "code",
   "execution_count": 34,
   "metadata": {},
   "outputs": [
    {
     "data": {
      "text/plain": [
       "Nombre: Mark, Apellido: Bonete, Nota: 5"
      ]
     },
     "execution_count": 34,
     "metadata": {},
     "output_type": "execute_result"
    }
   ],
   "source": [
    "alumnos[1]"
   ]
  },
  {
   "cell_type": "code",
   "execution_count": 39,
   "metadata": {},
   "outputs": [
    {
     "data": {
      "text/plain": [
       "Nombre: Mark, Apellido: Bonete, Nota: 4"
      ]
     },
     "execution_count": 39,
     "metadata": {},
     "output_type": "execute_result"
    }
   ],
   "source": [
    "alumnos[1](4)\n",
    "alumnos[1]\n"
   ]
  },
  {
   "cell_type": "markdown",
   "metadata": {},
   "source": [
    "## Otros métodos interesantes: \n",
    "``.__getattribute__(\"\")`` nombre del atributo que quieres obtener"
   ]
  },
  {
   "cell_type": "code",
   "execution_count": null,
   "metadata": {},
   "outputs": [],
   "source": [
    "alumnos[1].__getattribute__(\"nota\")"
   ]
  },
  {
   "cell_type": "code",
   "execution_count": 40,
   "metadata": {},
   "outputs": [
    {
     "data": {
      "text/plain": [
       "[Nombre: Mark, Apellido: Bonete, Nota: 4,\n",
       " Nombre: Tomas, Apellido: Lloret, Nota: 5,\n",
       " Nombre: Montserrat, Apellido: Cuevas, Nota: 10]"
      ]
     },
     "execution_count": 40,
     "metadata": {},
     "output_type": "execute_result"
    }
   ],
   "source": [
    "def ordenaAtributo(objetos, clave):\n",
    "    return sorted(objetos, key = lambda objeto: objeto.__getattribute__(clave))\n",
    "ordenaAtributo(alumnos, \"nota\")"
   ]
  },
  {
   "cell_type": "markdown",
   "metadata": {},
   "source": [
    "## Programación funcional al extremo.\n",
    "**No entra en el exámen**      \n",
    "Decoración de funciones y clases. Proporcionar envoltorios bonitos.\n",
    "### Decoración de funciones\n",
    "\\- Afegir un envoltori a una funció que retorni el seu resultat normal + l'envoltori`\n",
    "```py\n",
    "def decora(funcio): \n",
    "    def embolcall(*args, **dicc):\n",
    "        return funcio(*args, **dicc)\n",
    "    return(embolcall)\n",
    "```\n",
    "\n",
    "Pot servir per a: \n",
    "- Memoritzar resultats: guardar en un directori valors comprovats amb anterioritat per a millorar eficiéncia.\n"
   ]
  },
  {
   "cell_type": "code",
   "execution_count": 41,
   "metadata": {},
   "outputs": [],
   "source": [
    "def decora(funcio): \n",
    "    def embolcall(*args, **dicc):\n",
    "        print(\"Pero que lista que soy\")\n",
    "        return funcio(*args, **dicc)\n",
    "    return(embolcall)"
   ]
  },
  {
   "cell_type": "code",
   "execution_count": 42,
   "metadata": {},
   "outputs": [
    {
     "name": "stdout",
     "output_type": "stream",
     "text": [
      "Pero que lista que soy\n",
      "Hola, mundo!\n"
     ]
    }
   ],
   "source": [
    "printa = decora(print)\n",
    "printa(\"Hola, mundo!\")  "
   ]
  },
  {
   "cell_type": "markdown",
   "metadata": {},
   "source": [
    "## Entrega ``primos.py``\n",
    "```py\n",
    "    def esPrimo(numero):\n",
    "        \"\"\"\n",
    "        esPrimo retornarà True si el numero introducido es primo o False en \n",
    "        caso contrario.\n",
    "\n",
    "        >>> esPrimo(1023)\n",
    "        False\n",
    "\n",
    "        >>> esPrimo(1021)\n",
    "        True\n",
    "        \"\"\"\n",
    "\n",
    "        for esDivisible in range(2, numero): # tanto el range, lonchas y demàs siempre cuentan del primero al postúltimo.\n",
    "            if numero % esDivisible == 0:\n",
    "                return False\n",
    "        return True\n",
    "\n",
    "\n",
    "\n",
    "    def primos(numero):\n",
    "        \"\"\"\n",
    "        primos devolverà una tupla con todos los números primos por debajo del número proporcionado, es decir, su argumento.\n",
    "\n",
    "        >>> primos(10)\n",
    "        (2, 3, 5, 7)\n",
    "\n",
    "        >>> primos(20)\n",
    "        (2, 3, 5, 7, 11, 13, 17, 19)\n",
    "\n",
    "        \"\"\"\n",
    "        tupla = ()\n",
    "        for buscaNum in range(2,numero):\n",
    "            if esPrimo(buscaNum) == True:\n",
    "                tupla += (buscaNum,)\n",
    "        \n",
    "        return tupla\n",
    "\n",
    "\n",
    "    def descompon(numero):\n",
    "        \"\"\"\n",
    "        Devolverá una tupla con la descomposición en factores primos de su argumento.\n",
    "\n",
    "        >>> descompon(50)\n",
    "        (2, 5, 5)\n",
    "\n",
    "        >>> descompon(500)\n",
    "        (2, 2, 5, 5, 5)\n",
    "        \"\"\"\n",
    "\n",
    "        factores = []\n",
    "        divisor = 2\n",
    "        while numero > 1:\n",
    "            if numero % divisor == 0:\n",
    "                factores.append(divisor)\n",
    "                numero //= divisor\n",
    "            else:\n",
    "                divisor += 1\n",
    "                if not esPrimo(divisor):\n",
    "                    divisor += 1\n",
    "        return tuple(factores)\n",
    "\n",
    "\n",
    "    def mcm(numero1, numero2):\n",
    "        \"\"\"\n",
    "        Devolverá el mínimo común múltiplo de dos números.\n",
    "\n",
    "        >>> mcm(4, 6)\n",
    "        12\n",
    "        \"\"\"\n",
    "        \n",
    "        factores1 = descompon(numero1)\n",
    "        factores2 = descompon(numero2)\n",
    "        factores_comunes = set(factores1) | set(factores2)\n",
    "        mcm = 1\n",
    "        for factor in factores_comunes:\n",
    "            potencia1 = factores1.count(factor)\n",
    "            potencia2 = factores2.count(factor)\n",
    "            mcm *= factor ** max(potencia1, potencia2)\n",
    "        return mcm\n",
    "\n",
    "    def mcd(numero1, numero2):\n",
    "        \"\"\"\n",
    "        Devolverá el máximo común divisor de dos números.\n",
    "\n",
    "        >>> mcd(20, 10)\n",
    "        10\n",
    "        \"\"\"\n",
    "\n",
    "        factores1 = descompon(numero1)\n",
    "        factores2 = descompon(numero2)\n",
    "        factores_comunes = set(factores1) & set(factores2)\n",
    "        mcd = 1\n",
    "        for factor in factores_comunes:\n",
    "            potencia1 = factores1.count(factor)\n",
    "            potencia2 = factores2.count(factor)\n",
    "            mcd *= factor ** min(potencia1, potencia2)\n",
    "        return mcd\n",
    "\n",
    "\n",
    "    def mcmN(*args):\n",
    "        \"\"\"\n",
    "        Devolverá el mínimo común múltiplo de un número arbitrario de argumentos.\n",
    "\n",
    "        >>> mcmN(2, 3, 10)\n",
    "        30\n",
    "        \"\"\"\n",
    "\n",
    "        resultado = args[0]\n",
    "        for arg in args[1:]:\n",
    "            resultado = mcm(resultado, arg)\n",
    "        return resultado\n",
    "\n",
    "    def mcdN(*args):\n",
    "        \"\"\"\n",
    "        Devolverá el máximo común divisor de un número arbitrario de argumentos.\n",
    "\n",
    "        >>> mcdN(20, 30, 40)\n",
    "        10\n",
    "        \"\"\"\n",
    "        \n",
    "        resultado = args[0]\n",
    "        for arg in args[1:]:\n",
    "            resultado = mcd(resultado, arg)\n",
    "        return resultado\n",
    "\n",
    "    if __name__ == \"__main__\":\n",
    "        import doctest\n",
    "        doctest.testmod()\n",
    "```\n",
    "\n",
    "## Entrega ``vectores.py``\n",
    "\n",
    "```py\n",
    "    class Vector:\n",
    "        \"\"\"\n",
    "        Clase usada para trabajar con vectores sencillos\n",
    "        \"\"\"\n",
    "        def __init__(self, iterable):\n",
    "            \"\"\"\n",
    "            Costructor de la clase Vector. Su único argumento es un iterable con las componentes del vector.\n",
    "            \"\"\"\n",
    "\n",
    "            self.vector = [valor for valor in iterable]\n",
    "\n",
    "            return None      # Orden superflua\n",
    "\n",
    "        def __repr__(self):\n",
    "            \"\"\"\n",
    "            Representación *oficial* del vector que permite construir uno nuevo idéntico mediante corta-y-pega.\n",
    "            \"\"\"\n",
    "\n",
    "            return 'Vector(' + repr(self.vector) + ')'\n",
    "\n",
    "        def __str__(self):\n",
    "            \"\"\"\n",
    "            Representación *bonita* del vector.\n",
    "            \"\"\"\n",
    "\n",
    "            return str(self.vector)\n",
    "\n",
    "        def __getitem__(self, key):\n",
    "            \"\"\"\n",
    "            Devuelve un elemento o una loncha del vector.\n",
    "            \"\"\"\n",
    "\n",
    "            return self.vector[key]\n",
    "\n",
    "        def __setitem__(self, key, value):\n",
    "            \"\"\"\n",
    "            Fija el valor de una componente o loncha del vector.\n",
    "            \"\"\"\n",
    "\n",
    "            self.vector[key] = value\n",
    "\n",
    "        def __len__(self):\n",
    "            \"\"\"\n",
    "            Devuelve la longitud del vector.\n",
    "            \"\"\"\n",
    "\n",
    "            return len(self.vector)\n",
    "\n",
    "        def __add__(self, other):\n",
    "            \"\"\"\n",
    "            Suma al vector otro vector o una constante.\n",
    "            \"\"\"\n",
    "\n",
    "            if isinstance(other, (int, float, complex)):\n",
    "                return Vector(uno + other for uno in self)\n",
    "            else:\n",
    "                return Vector(uno + otro for uno, otro in zip(self, other))\n",
    "\n",
    "        __radd__ = __add__\n",
    "\n",
    "        def __neg__(self):\n",
    "            \"\"\"\n",
    "            Invierte el signo del vector.\n",
    "            \"\"\"\n",
    "\n",
    "            return Vector([-1 * item for item in self])\n",
    "\n",
    "        def __sub__(self, other):\n",
    "            \"\"\"\n",
    "            Resta al vector otro vector o una constante.\n",
    "            \"\"\"\n",
    "\n",
    "            return -(-self + other)\n",
    "\n",
    "        def __rsub__(self, other):     # No puede ser __rsub__ = __sub__\n",
    "            \"\"\"\n",
    "            Método reflejado de la resta, usado cuando el primer elemento no pertenece a la clase Vector.\n",
    "            \"\"\"\n",
    "\n",
    "            return -self + other\n",
    "        \n",
    "        def __mul__(self, otro):\n",
    "            \"\"\"\n",
    "            Método que me permite multiplicar un vector por un mismo vector o una constante.\n",
    "            >>> v1 = Vector([1, 2, 3])\n",
    "            >>> v2 = Vector([4, 5, 6])\n",
    "            >>> v1 * 2\n",
    "            Vector([2, 4, 6])\n",
    "            >>> v1 * v2\n",
    "            Vector([4, 10, 18])\n",
    "            \"\"\"\n",
    "            if isinstance(otro, (int, float, complex)):\n",
    "                return Vector([elemento * otro for elemento in self])\n",
    "            else :\n",
    "                return Vector([num1*num2 for num1, num2 in zip(self, otro)]) # zip es un objeto que nos permite recorrer dos iterables al mismo tiempo\n",
    "            \n",
    "        __rmul__ = __mul__ # para que pueda multiplicar de manera commutativa los iterables con el vector\n",
    "\n",
    "        def __matmul__(self, otro):\n",
    "            \"\"\"\n",
    "            Metodo que me permite calcular el producto matricial de dos vectores.\n",
    "            >>> v1 = Vector([1, 2, 3])\n",
    "            >>> v2 = Vector([4, 5, 6])\n",
    "            >>> v1 @ v2\n",
    "            32\n",
    "            \"\"\"\n",
    "            if not isinstance(otro, Vector):\n",
    "                raise TypeError(\"El producto matricial solo se puede realizar entre dos vectores\")\n",
    "            else:\n",
    "                return sum([num1*num2 for num1, num2 in zip(self, otro)])\n",
    "        \n",
    "        def __rmatmul__(self, otro):\n",
    "            # si tenemos dos vectores directamente me hará __matmul__, en cambio, hay que especificar bien con los escalares ya que el usuario puede meter v1@2 o 2@v1.\n",
    "            \"\"\"\n",
    "            Metodo que me permite calcular el producto matricial de dos vectores.\n",
    "            \"\"\"\n",
    "            if not isinstance(otro, Vector): \n",
    "                raise TypeError(\"El producto matricial solo se puede realizar entre dos vectores\")\n",
    "\n",
    "\n",
    "        def __floordiv__(self, otro): \n",
    "            \"\"\"\n",
    "            Metodo que me permite obtener el vector la componente tangencial (paralela) de v1 a v2 si v1 // v2.\n",
    "\n",
    "            Se puede demostrar:\n",
    "\n",
    "            v1 (componente tangencial) = ((v1//v2)/|v2|**2)*v2\n",
    "\n",
    "            >>> v1 = Vector([2, 1, 2])\n",
    "            >>> v2 = Vector([0.5, 1, 0.5])\n",
    "            >>> v1 // v2\n",
    "            Vector([1.0, 2.0, 1.0])\n",
    "            \"\"\"\n",
    "            if not isinstance(otro, Vector):\n",
    "                raise TypeError(\"No se puede proyectar un escalar sobre un vector.\")\n",
    "            \n",
    "            else: \n",
    "                producto_escalar = self @ otro\n",
    "                modulo = sum(a**2 for a in otro)\n",
    "                factor = producto_escalar / modulo\n",
    "                return Vector([num1 * factor for num1 in otro])\n",
    "        \n",
    "        def __rfloordiv__(self, otro):\n",
    "            # si tenemos dos vectores directamente me hará __floordiv__, en cambio, hay que especificar bien con los escalares ya que el usuario puede meter v1//2 o 2//v1.\n",
    "            \"\"\"\n",
    "            Nos salta un error si intentamos utilizar // de un vector por un escalar.\n",
    "            \"\"\"\n",
    "            if not isinstance(otro, Vector):\n",
    "                raise TypeError(\"No se puede proyectar un escalar sobre un vector.\")\n",
    "            \n",
    "        def __mod__(self, otro):\n",
    "            \"\"\"\n",
    "            Metodo que me permite obtener el vector normal (perpendicular) de un vector sobre otro vector\n",
    "\n",
    "            v1 (componente normal) = v1 - (v1//v2)\n",
    "\n",
    "            >>> v1 = Vector([2, 1, 2])\n",
    "            >>> v2 = Vector([0.5, 1, 0.5])\n",
    "            >>> v1 % v2\n",
    "            Vector([1.0, -1.0, 1.0])\n",
    "            \"\"\"\n",
    "\n",
    "            if not isinstance(otro, Vector):\n",
    "                raise TypeError(\"No se puede proyectar un escalar sobre un vector.\")\n",
    "            else: \n",
    "                tangencial = self // otro\n",
    "                return Vector([num1 - num2 for num1, num2 in zip(self, tangencial)])\n",
    "            \n",
    "        def __rmod__(self, otro): # si tenemos dos vectores directamente me hará __mod__, en cambio, hay que especificar bien con los escalares ya que el usuario puede meter v1%2 o 2%v1.\n",
    "            \"\"\"\n",
    "            Nos salta un error si intentamos utilizar // de un vector por un escalar.\n",
    "            \"\"\"\n",
    "            if not isinstance(otro, Vector): # isinstance(otro, Vector) → Devuelve True si otro es un Vector, False si no.\n",
    "                raise TypeError(\"No se puede proyectar un escalar sobre un vector.\")\n",
    "            \n",
    "\n",
    "    if __name__ == \"__main__\":\n",
    "        import doctest\n",
    "        doctest.testmod()\n",
    "```\n",
    "\n",
    "## Entrega ``aleatorios.py``\n",
    "\n",
    "```py\n",
    "    class Aleat:\n",
    "        '''\n",
    "            Esta es una clase que representa un generador de números aleatorios. \n",
    "            Utiliza el algoritmo de generación de números aleatorios de LCG.\n",
    "            Utilizamos: self.x = (self.a * self.x + self.c) % self.m (LCG). Por defecto, utilizaremos los valores del estàndar POSIX con semilla x0 = 1212121.\n",
    "            \n",
    "            TEST: \n",
    "\n",
    "            -- Comprobación del funcionamiento de Aleat\n",
    "\n",
    "            >>> rand = Aleat(m=32, a=9, c=13, x0=11)\n",
    "            >>> for _ in range(4):\n",
    "            ...     print(next(rand))\n",
    "            16\n",
    "            29\n",
    "            18\n",
    "            15\n",
    "\n",
    "            -- Comprobación del reinicio de Aleat\n",
    "\n",
    "            >>> rand(29)\n",
    "            >>> for _ in range(4):\n",
    "            ...     print(next(rand))\n",
    "            18\n",
    "            15\n",
    "            20\n",
    "            1\n",
    "        '''\n",
    "        def __init__(self, *, m=2**31, a=1103515245, c=12345, x0 = 1212121):\n",
    "            self.m = m\n",
    "            self.a = a\n",
    "            self.c = c\n",
    "            self.x = x0\n",
    "        def __next__(self):\n",
    "            self.x = (self.a * self.x + self.c) % self.m\n",
    "            return self.x\n",
    "        def __call__(self, nuevaX):\n",
    "            self.x = nuevaX\n",
    "\n",
    "    def aleat(*, m=2**31, a=1103515245, c=12345, x0=1212121):\n",
    "        '''\n",
    "            Esta es una funcion que representa un generador de números aleatorios. \n",
    "            Utiliza el algoritmo de generación de números aleatorios de LCG. \n",
    "            Utilizamos: x = (a * x + c) % m. Por defecto, utilizaremos los valores del estàndar POSIX con semilla x0 = 1212121.\n",
    "            \n",
    "            TEST: \n",
    "\n",
    "            -- Comprobación del funcionamiento de aleat()\n",
    "\n",
    "            >>> rand = aleat(m=64, a=5, c=46, x0=36)\n",
    "            >>> for _ in range(4):\n",
    "            ...     print(next(rand))\n",
    "            34\n",
    "            24\n",
    "            38\n",
    "            44\n",
    "\n",
    "            -- Comprobación del reinicio de aleat()\n",
    "\n",
    "            >>> rand.send(24)\n",
    "            38\n",
    "\n",
    "            >>> for _ in range(4):\n",
    "            ...     print(next(rand))\n",
    "            44\n",
    "            10\n",
    "            32\n",
    "            14\n",
    "        '''\n",
    "        x = x0\n",
    "        while True:\n",
    "            x = (a * x + c) % m  \n",
    "            nuevo = yield x      # Devolver número generado\n",
    "            if nuevo is not None:\n",
    "                x = nuevo        # Reiniciar con nueva semilla\n",
    "\n",
    "    if __name__ == \"__main__\":\n",
    "        import doctest\n",
    "        doctest.testmod()\n",
    "```\n",
    "\n"
   ]
  },
  {
   "cell_type": "markdown",
   "metadata": {},
   "source": []
  }
 ],
 "metadata": {
  "kernelspec": {
   "display_name": ".venv",
   "language": "python",
   "name": "python3"
  },
  "language_info": {
   "codemirror_mode": {
    "name": "ipython",
    "version": 3
   },
   "file_extension": ".py",
   "mimetype": "text/x-python",
   "name": "python",
   "nbconvert_exporter": "python",
   "pygments_lexer": "ipython3",
   "version": "3.12.3"
  }
 },
 "nbformat": 4,
 "nbformat_minor": 2
}
