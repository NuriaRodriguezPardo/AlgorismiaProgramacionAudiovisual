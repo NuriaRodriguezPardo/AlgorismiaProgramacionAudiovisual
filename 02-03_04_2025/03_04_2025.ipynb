{
 "cells": [
  {
   "cell_type": "markdown",
   "metadata": {},
   "source": [
    "# Generadores y comprensión"
   ]
  },
  {
   "cell_type": "markdown",
   "metadata": {
    "vscode": {
     "languageId": "raw"
    }
   },
   "source": [
    "## Comprensión"
   ]
  },
  {
   "cell_type": "raw",
   "metadata": {
    "vscode": {
     "languageId": "raw"
    }
   },
   "source": [
    "expressión for elemento in contenedor if condición\n"
   ]
  },
  {
   "cell_type": "markdown",
   "metadata": {},
   "source": [
    "expressión for elemento in contenedor if condición\n",
    "- True - mete la expressión del elemento\n",
    "- False - no mete la expresión del elemento\n",
    "## Expresión generadora"
   ]
  },
  {
   "cell_type": "raw",
   "metadata": {
    "vscode": {
     "languageId": "raw"
    }
   },
   "source": [
    "expresión for elemento in contenedor if condición"
   ]
  },
  {
   "cell_type": "markdown",
   "metadata": {},
   "source": [
    "- Proporciona iterador\n",
    "\n",
    "### Generador que genera números primos: "
   ]
  },
  {
   "cell_type": "code",
   "execution_count": 9,
   "metadata": {},
   "outputs": [],
   "source": [
    "%run primos.py"
   ]
  },
  {
   "cell_type": "code",
   "execution_count": 10,
   "metadata": {},
   "outputs": [],
   "source": [
    "primos = (numero for numero in range(0, 9999999) if esPrimo(numero))"
   ]
  },
  {
   "cell_type": "code",
   "execution_count": 20,
   "metadata": {},
   "outputs": [
    {
     "data": {
      "text/plain": [
       "19"
      ]
     },
     "execution_count": 20,
     "metadata": {},
     "output_type": "execute_result"
    }
   ],
   "source": [
    "next(primos)"
   ]
  },
  {
   "cell_type": "code",
   "execution_count": 21,
   "metadata": {},
   "outputs": [
    {
     "ename": "NameError",
     "evalue": "name 'count' is not defined",
     "output_type": "error",
     "traceback": [
      "\u001b[31m---------------------------------------------------------------------------\u001b[39m",
      "\u001b[31mNameError\u001b[39m                                 Traceback (most recent call last)",
      "\u001b[36mCell\u001b[39m\u001b[36m \u001b[39m\u001b[32mIn[21]\u001b[39m\u001b[32m, line 1\u001b[39m\n\u001b[32m----> \u001b[39m\u001b[32m1\u001b[39m primos2 = (numero \u001b[38;5;28;01mfor\u001b[39;00m numero \u001b[38;5;129;01min\u001b[39;00m \u001b[43mcount\u001b[49m())\n",
      "\u001b[31mNameError\u001b[39m: name 'count' is not defined"
     ]
    }
   ],
   "source": [
    "primos2 = (numero for numero in count())"
   ]
  },
  {
   "cell_type": "markdown",
   "metadata": {},
   "source": [
    "### Funciones anónimas (lambda)\n",
    "lambda argumentos: expresión\n",
    "- (expresión simple)\n",
    "\n",
    "## Funciones orden superior\n",
    "- Toma cómo argumento otra funcion o cómo valor de salida \n",
    "\n",
    "### Función map: \n",
    "- Devuelve en forma de iterador, funcion con los elementos de los iteradores\n",
    "\n"
   ]
  },
  {
   "cell_type": "code",
   "execution_count": 22,
   "metadata": {},
   "outputs": [],
   "source": [
    "nombres = [\"Montserrat\", \"Martí\", \"Tomás\", \"Josep\"]\n",
    "apellidos = [\"Cuevas\", \"Dominguez\", \"Lloret\", \"Esquerrá\"]\n",
    "iden = [12554, 69420, 54321, 10101]\n",
    "alumnos = map(print, nombres, apellidos, iden)"
   ]
  },
  {
   "cell_type": "code",
   "execution_count": 27,
   "metadata": {},
   "outputs": [
    {
     "ename": "StopIteration",
     "evalue": "",
     "output_type": "error",
     "traceback": [
      "\u001b[31m---------------------------------------------------------------------------\u001b[39m",
      "\u001b[31mStopIteration\u001b[39m                             Traceback (most recent call last)",
      "\u001b[36mCell\u001b[39m\u001b[36m \u001b[39m\u001b[32mIn[27]\u001b[39m\u001b[32m, line 1\u001b[39m\n\u001b[32m----> \u001b[39m\u001b[32m1\u001b[39m \u001b[38;5;28;43mnext\u001b[39;49m\u001b[43m(\u001b[49m\u001b[43malumnos\u001b[49m\u001b[43m)\u001b[49m\n",
      "\u001b[31mStopIteration\u001b[39m: "
     ]
    }
   ],
   "source": [
    "next(alumnos)"
   ]
  },
  {
   "cell_type": "code",
   "execution_count": 28,
   "metadata": {},
   "outputs": [],
   "source": [
    "numeros = [\"zero\", \"u\", \"dos\", \"tres\"]"
   ]
  },
  {
   "cell_type": "code",
   "execution_count": 32,
   "metadata": {},
   "outputs": [
    {
     "name": "stdout",
     "output_type": "stream",
     "text": [
      "ZERO\n",
      "U\n",
      "DOS\n",
      "TRES\n"
     ]
    }
   ],
   "source": [
    "# MAP\n",
    "NUMEROS = map(lambda s: s.upper(), numeros)\n",
    "for NUMERO in NUMEROS: print(NUMERO)"
   ]
  },
  {
   "cell_type": "code",
   "execution_count": 39,
   "metadata": {},
   "outputs": [
    {
     "name": "stdout",
     "output_type": "stream",
     "text": [
      "Sin if\n",
      "ZERO\n",
      "U\n",
      "DOS\n",
      "TRES\n",
      "\n",
      "Con if\n",
      "ZERO\n",
      "TRES\n"
     ]
    }
   ],
   "source": [
    "# COMPRENSIÓN\n",
    "NUMEROS2 = (s.upper() for s in numeros)\n",
    "print(\"Sin if\")\n",
    "for NUMERO in NUMEROS2: print(NUMERO)\n",
    "# Podemos utilizar un if\n",
    "print(\"\\nCon if\")\n",
    "NUMEROS3 = (s.upper() for s in numeros if len(s)>3)\n",
    "for NUMERO in NUMEROS3: print(NUMERO)"
   ]
  },
  {
   "cell_type": "markdown",
   "metadata": {},
   "source": [
    "## Filter: \n",
    "filter -> función iterables."
   ]
  },
  {
   "cell_type": "raw",
   "metadata": {
    "vscode": {
     "languageId": "raw"
    }
   },
   "source": [
    "filter(function, iterables...)\n",
    "La salida será un booleano. \n",
    "True -> se muestra en pantalla \n",
    "False -> no se muestra en pantalla"
   ]
  },
  {
   "cell_type": "code",
   "execution_count": 41,
   "metadata": {},
   "outputs": [],
   "source": [
    "quintos = filter(lambda x: not x%5, range(40)) # evalua a true quando es multiple de 5 y false en caso contrario"
   ]
  },
  {
   "cell_type": "code",
   "execution_count": 53,
   "metadata": {},
   "outputs": [
    {
     "ename": "StopIteration",
     "evalue": "",
     "output_type": "error",
     "traceback": [
      "\u001b[31m---------------------------------------------------------------------------\u001b[39m",
      "\u001b[31mStopIteration\u001b[39m                             Traceback (most recent call last)",
      "\u001b[36mCell\u001b[39m\u001b[36m \u001b[39m\u001b[32mIn[53]\u001b[39m\u001b[32m, line 1\u001b[39m\n\u001b[32m----> \u001b[39m\u001b[32m1\u001b[39m \u001b[38;5;28;43mnext\u001b[39;49m\u001b[43m(\u001b[49m\u001b[43mquintos\u001b[49m\u001b[43m)\u001b[49m\n",
      "\u001b[31mStopIteration\u001b[39m: "
     ]
    }
   ],
   "source": [
    "next(quintos)"
   ]
  },
  {
   "cell_type": "code",
   "execution_count": 63,
   "metadata": {},
   "outputs": [
    {
     "name": "stdout",
     "output_type": "stream",
     "text": [
      "0\n",
      "5\n",
      "10\n",
      "15\n",
      "20\n",
      "25\n",
      "30\n",
      "35\n"
     ]
    }
   ],
   "source": [
    "# no podemos generar una expresión de la variable, no permite transformarlos.\n",
    "quintos = filter(lambda x: not x%5, range(40))\n",
    "for numero in quintos:\n",
    "    print(numero)"
   ]
  },
  {
   "cell_type": "code",
   "execution_count": 67,
   "metadata": {},
   "outputs": [
    {
     "name": "stdout",
     "output_type": "stream",
     "text": [
      "0\n",
      "5\n",
      "10\n",
      "15\n",
      "20\n",
      "25\n",
      "30\n",
      "35\n"
     ]
    }
   ],
   "source": [
    "# combinación de filter y map\n",
    "quintos = (x for x in range(40) if not x%5)\n",
    "for numero in quintos: print(numero)"
   ]
  },
  {
   "cell_type": "markdown",
   "metadata": {},
   "source": [
    "map filter y reduce pertenecen a la santíssima trinidad de funciones de la programación. \n",
    "## Reduce\n",
    "- Reduce aplica la función a los 2 primeros elementos de la función y después."
   ]
  },
  {
   "cell_type": "code",
   "execution_count": 69,
   "metadata": {},
   "outputs": [],
   "source": [
    "from functools import reduce"
   ]
  },
  {
   "cell_type": "code",
   "execution_count": 70,
   "metadata": {},
   "outputs": [
    {
     "name": "stdout",
     "output_type": "stream",
     "text": [
      "Help on built-in function reduce in module _functools:\n",
      "\n",
      "reduce(...)\n",
      "    reduce(function, iterable[, initial]) -> value\n",
      "\n",
      "    Apply a function of two arguments cumulatively to the items of a sequence\n",
      "    or iterable, from left to right, so as to reduce the iterable to a single\n",
      "    value.  For example, reduce(lambda x, y: x+y, [1, 2, 3, 4, 5]) calculates\n",
      "    ((((1+2)+3)+4)+5).  If initial is present, it is placed before the items\n",
      "    of the iterable in the calculation, and serves as a default when the\n",
      "    iterable is empty.\n",
      "\n"
     ]
    }
   ],
   "source": [
    "help(reduce)"
   ]
  },
  {
   "cell_type": "code",
   "execution_count": 73,
   "metadata": {},
   "outputs": [],
   "source": [
    "def factorial(n):\n",
    "    return reduce(lambda x,y: x*y, range(2, n+1))"
   ]
  },
  {
   "cell_type": "code",
   "execution_count": 74,
   "metadata": {},
   "outputs": [
    {
     "data": {
      "text/plain": [
       "3628800"
      ]
     },
     "execution_count": 74,
     "metadata": {},
     "output_type": "execute_result"
    }
   ],
   "source": [
    "factorial(10)"
   ]
  },
  {
   "cell_type": "code",
   "execution_count": 75,
   "metadata": {},
   "outputs": [
    {
     "name": "stdout",
     "output_type": "stream",
     "text": [
      "2! = 2\n",
      "3! = 6\n",
      "4! = 24\n",
      "5! = 120\n",
      "6! = 720\n",
      "7! = 5040\n",
      "8! = 40320\n",
      "9! = 362880\n"
     ]
    }
   ],
   "source": [
    "for n in range(2, 10): \n",
    "    print(f\"{n}! = {factorial(n)}\")"
   ]
  },
  {
   "cell_type": "markdown",
   "metadata": {},
   "source": [
    "## Ordenación\n",
    "### sorted\n",
    "El método `sorted()` devuelve una lista ordenada de los elementos de una lista."
   ]
  },
  {
   "cell_type": "code",
   "execution_count": 76,
   "metadata": {},
   "outputs": [
    {
     "name": "stdout",
     "output_type": "stream",
     "text": [
      "Help on built-in function sorted in module builtins:\n",
      "\n",
      "sorted(iterable, /, *, key=None, reverse=False)\n",
      "    Return a new list containing all items from the iterable in ascending order.\n",
      "\n",
      "    A custom key function can be supplied to customize the sort order, and the\n",
      "    reverse flag can be set to request the result in descending order.\n",
      "\n"
     ]
    }
   ],
   "source": [
    "help(sorted)"
   ]
  },
  {
   "cell_type": "code",
   "execution_count": 78,
   "metadata": {},
   "outputs": [
    {
     "data": {
      "text/plain": [
       "['dos', 'tres', 'u', 'zero']"
      ]
     },
     "execution_count": 78,
     "metadata": {},
     "output_type": "execute_result"
    }
   ],
   "source": [
    "sorted(numeros)"
   ]
  },
  {
   "cell_type": "code",
   "execution_count": 81,
   "metadata": {},
   "outputs": [
    {
     "data": {
      "text/plain": [
       "['zero', 'tres', 'dos', 'u']"
      ]
     },
     "execution_count": 81,
     "metadata": {},
     "output_type": "execute_result"
    }
   ],
   "source": [
    "sorted(numeros, key = lambda s: s[::-1])"
   ]
  },
  {
   "cell_type": "code",
   "execution_count": 91,
   "metadata": {},
   "outputs": [],
   "source": [
    "class Alumno: \n",
    "    def __init__(self, nombre, apellido, nota):\n",
    "        self. nombre, self.apellido, self.nota = nombre, apellido, nota\n",
    "    def __str__(self):\n",
    "        return f\"Nombre: {self.nombre}, Apellido: {self.apellido}, Nota: {self.nota}\"\n",
    "    __repr__ = __str__"
   ]
  },
  {
   "cell_type": "code",
   "execution_count": 92,
   "metadata": {},
   "outputs": [],
   "source": [
    "alumnos = [Alumno(\"Tomas\", \"Lloret\", 5), Alumno(\"Mark\", \"Bonete\", 5), Alumno(\"Montserrat\", \"Cuevas\", 10)]"
   ]
  },
  {
   "cell_type": "code",
   "execution_count": 94,
   "metadata": {},
   "outputs": [
    {
     "data": {
      "text/plain": [
       "[Nombre: Tomas, Apellido: Lloret, Nota: 5,\n",
       " Nombre: Mark, Apellido: Bonete, Nota: 5,\n",
       " Nombre: Montserrat, Apellido: Cuevas, Nota: 10]"
      ]
     },
     "execution_count": 94,
     "metadata": {},
     "output_type": "execute_result"
    }
   ],
   "source": [
    "sorted(alumnos, key = lambda x: x.nota)"
   ]
  },
  {
   "cell_type": "markdown",
   "metadata": {},
   "source": [
    "## Invocación de un objeto cómo función: \n",
    "Cuándo invocamos a un objeto de la función utilizamos el método ``__call__``, por lo tanto, tenemos que implementarlo. \n"
   ]
  },
  {
   "cell_type": "code",
   "execution_count": 95,
   "metadata": {},
   "outputs": [],
   "source": [
    "class Alumno: \n",
    "    def __init__(self, nombre, apellido, nota):\n",
    "        self. nombre, self.apellido, self.nota = nombre, apellido, nota\n",
    "    def __str__(self):\n",
    "        return f\"Nombre: {self.nombre}, Apellido: {self.apellido}, Nota: {self.nota}\"\n",
    "    __repr__ = __str__\n",
    "\n",
    "    def __call__(self, nota): \n",
    "        self.nota = nota\n",
    "        "
   ]
  },
  {
   "cell_type": "code",
   "execution_count": 96,
   "metadata": {},
   "outputs": [
    {
     "data": {
      "text/plain": [
       "[Nombre: Tomas, Apellido: Lloret, Nota: 5,\n",
       " Nombre: Mark, Apellido: Bonete, Nota: 5,\n",
       " Nombre: Montserrat, Apellido: Cuevas, Nota: 10]"
      ]
     },
     "execution_count": 96,
     "metadata": {},
     "output_type": "execute_result"
    }
   ],
   "source": [
    "alumnos = [Alumno(\"Tomas\", \"Lloret\", 5), Alumno(\"Mark\", \"Bonete\", 5), Alumno(\"Montserrat\", \"Cuevas\", 10)]\n",
    "sorted(alumnos, key = lambda x: x.nota)"
   ]
  },
  {
   "cell_type": "code",
   "execution_count": 97,
   "metadata": {},
   "outputs": [
    {
     "data": {
      "text/plain": [
       "Nombre: Mark, Apellido: Bonete, Nota: 5"
      ]
     },
     "execution_count": 97,
     "metadata": {},
     "output_type": "execute_result"
    }
   ],
   "source": [
    "alumnos[1]"
   ]
  },
  {
   "cell_type": "code",
   "execution_count": 100,
   "metadata": {},
   "outputs": [
    {
     "data": {
      "text/plain": [
       "Nombre: Mark, Apellido: Bonete, Nota: 4"
      ]
     },
     "execution_count": 100,
     "metadata": {},
     "output_type": "execute_result"
    }
   ],
   "source": [
    "alumnos[1](4)\n",
    "alumnos[1]"
   ]
  },
  {
   "cell_type": "markdown",
   "metadata": {},
   "source": [
    "## Otros métodos interesantes: \n",
    "``.__getattribute__(\"\")`` nombre del atributo que quieres obtener\n"
   ]
  },
  {
   "cell_type": "code",
   "execution_count": 101,
   "metadata": {},
   "outputs": [
    {
     "data": {
      "text/plain": [
       "4"
      ]
     },
     "execution_count": 101,
     "metadata": {},
     "output_type": "execute_result"
    }
   ],
   "source": [
    "alumnos[1].__getattribute__(\"nota\")"
   ]
  },
  {
   "cell_type": "code",
   "execution_count": 110,
   "metadata": {},
   "outputs": [
    {
     "data": {
      "text/plain": [
       "[Nombre: Mark, Apellido: Bonete, Nota: 4,\n",
       " Nombre: Tomas, Apellido: Lloret, Nota: 5,\n",
       " Nombre: Montserrat, Apellido: Cuevas, Nota: 10]"
      ]
     },
     "execution_count": 110,
     "metadata": {},
     "output_type": "execute_result"
    }
   ],
   "source": [
    "def ordenaAtributo(objetos, clave):\n",
    "    return sorted(objetos, key = lambda objeto: objeto.__getattribute__(clave))\n",
    "ordenaAtributo(alumnos, \"nota\")"
   ]
  },
  {
   "cell_type": "markdown",
   "metadata": {},
   "source": [
    "# Programación funcional al extremo.\n",
    "**No entra en el exámen**      \n",
    "Decoración de funciones y clases. Proporcionar envoltorios bonitos.\n",
    "## Decoración de funciones\n",
    "\\- Afegir un envoltori a una funció que retorni el seu resultat normal + l'envoltori`\n",
    "```py\n",
    "def decora(funcio): \n",
    "    def embolcall(*args, **dicc):\n",
    "        return funcio(*args, **dicc)\n",
    "    return(embolcall)\n",
    "```\n",
    "\n",
    "Pot servir per a: \n",
    "- Memoritzar resultats: guardar en un directori valors comprovats amb anterioritat per a millorar eficiéncia.\n"
   ]
  },
  {
   "cell_type": "code",
   "execution_count": 116,
   "metadata": {},
   "outputs": [],
   "source": [
    "def decora(funcio): \n",
    "    def embolcall(*args, **dicc):\n",
    "        print(\"Pero que lista que soy\")\n",
    "        return funcio(*args, **dicc)\n",
    "    return(embolcall)"
   ]
  },
  {
   "cell_type": "code",
   "execution_count": 117,
   "metadata": {},
   "outputs": [
    {
     "name": "stdout",
     "output_type": "stream",
     "text": [
      "Pero que lista que soy\n",
      "Hola, mundo!\n"
     ]
    }
   ],
   "source": [
    "printa = decora(print)\n",
    "printa(\"Hola, mundo!\")  "
   ]
  },
  {
   "cell_type": "code",
   "execution_count": 121,
   "metadata": {},
   "outputs": [],
   "source": [
    "import primos as pr"
   ]
  },
  {
   "cell_type": "code",
   "execution_count": 123,
   "metadata": {},
   "outputs": [
    {
     "data": {
      "text/plain": [
       "False"
      ]
     },
     "execution_count": 123,
     "metadata": {},
     "output_type": "execute_result"
    }
   ],
   "source": [
    "pr.esPrimo(9**12)"
   ]
  }
 ],
 "metadata": {
  "kernelspec": {
   "display_name": ".venv",
   "language": "python",
   "name": "python3"
  },
  "language_info": {
   "codemirror_mode": {
    "name": "ipython",
    "version": 3
   },
   "file_extension": ".py",
   "mimetype": "text/x-python",
   "name": "python",
   "nbconvert_exporter": "python",
   "pygments_lexer": "ipython3",
   "version": "3.12.3"
  }
 },
 "nbformat": 4,
 "nbformat_minor": 2
}
