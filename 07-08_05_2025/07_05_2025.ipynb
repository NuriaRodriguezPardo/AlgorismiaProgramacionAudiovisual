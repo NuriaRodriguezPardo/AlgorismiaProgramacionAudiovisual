{
 "cells": [
  {
   "cell_type": "code",
   "execution_count": 6,
   "metadata": {},
   "outputs": [],
   "source": [
    "#  sudo apt install python3-ipykernel\n",
    "import struct as st\n",
    "import numpy as np"
   ]
  },
  {
   "cell_type": "code",
   "execution_count": 12,
   "metadata": {},
   "outputs": [],
   "source": [
    "def leeWave(fileWave):\n",
    "    # leemos el fichero en binario \n",
    "    with open(fileWave, 'rb') as fpWave: \n",
    "        formato = '<4sI4s'\n",
    "        datos = fpWave.read(st.calcsize(formato))\n",
    "        chunkID, chunkSize, format = st.unpack(formato, datos)\n",
    "        if chunkID != b'RIFF' or format != b'WAVE':\n",
    "            raise Exception(f\"El fichero {fileWave} no tiene formato WAVE\")\n",
    "        print(f\"La mida del fitxer és de {chunkSize+8} bytes.\")"
   ]
  },
  {
   "cell_type": "code",
   "execution_count": 13,
   "metadata": {},
   "outputs": [
    {
     "name": "stdout",
     "output_type": "stream",
     "text": [
      "La mida del fitxer és de 190226 bytes.\n"
     ]
    }
   ],
   "source": [
    "leeWave('luzbel44.wav')"
   ]
  },
  {
   "cell_type": "code",
   "execution_count": 14,
   "metadata": {},
   "outputs": [],
   "source": [
    "def leeWave(fileWave):\n",
    "    # leemos el fichero en binario \n",
    "    with open(fileWave, 'rb') as fpWave: \n",
    "        formato = '<4sI4s'\n",
    "        datos = fpWave.read(st.calcsize(formato))\n",
    "        chunkID, chunkSize, format = st.unpack(formato, datos)\n",
    "        if chunkID != b'RIFF' or format != b'WAVE':\n",
    "            raise Exception(f\"El fichero {fileWave} no tiene formato WAVE\")\n",
    "        fpWave.seek(36, 0)\n",
    "        formato = \"<4sI\"\n",
    "        datos = fpWave.read(st.calcsize(formato))\n",
    "        subChunk2ID, subChunk2Size = st.unpack(formato, datos)\n",
    "        numMostres = subChunk2Size // 2\n",
    "        formato = f\"<{numMostres}h\"\n",
    "        datos = fpWave.read(st.calcsize(formato))\n",
    "        mostres = st.unpack(formato, datos)\n",
    "    return mostres"
   ]
  },
  {
   "cell_type": "code",
   "execution_count": 25,
   "metadata": {},
   "outputs": [
    {
     "data": {
      "text/plain": [
       "[<matplotlib.lines.Line2D at 0x7fbdbcffb860>]"
      ]
     },
     "execution_count": 25,
     "metadata": {},
     "output_type": "execute_result"
    },
    {
     "data": {
      "image/png": "[encoded data removed]",
      "text/plain": [
       "<Figure size 640x480 with 1 Axes>"
      ]
     },
     "metadata": {},
     "output_type": "display_data"
    }
   ],
   "source": [
    "import matplotlib.pyplot as plt\n",
    "algo = leeWave('luzbel44.wav')\n",
    "plt.plot(algo, \"magenta\")"
   ]
  },
  {
   "cell_type": "markdown",
   "metadata": {},
   "source": [
    "Leer el fichero de notas y sacar su información (num de iD, nombre completo y nota)"
   ]
  },
  {
   "cell_type": "code",
   "execution_count": 27,
   "metadata": {},
   "outputs": [
    {
     "name": "stdout",
     "output_type": "stream",
     "text": [
      "Nuria Rodriguez Pardo 10\n",
      "Mark Bonete Ventura 6\n",
      "Pol Alaminos Martorell 5\n"
     ]
    }
   ],
   "source": [
    "with open(\"alumnos.txt\", \"rt\") as fpAlumnos:\n",
    "    for alumno in fpAlumnos:\n",
    "        print(alumno.strip()) #para eliminar los espacios en blanco: strip()"
   ]
  },
  {
   "cell_type": "markdown",
   "metadata": {},
   "source": [
    "## Expresiones regulares\n",
    "Es una gramática que describe cadenas de texto."
   ]
  },
  {
   "cell_type": "code",
   "execution_count": 48,
   "metadata": {},
   "outputs": [],
   "source": [
    "# La expresión más sencilla es el literal\n",
    "# estan en la bibliotecta re \n",
    "# re.search() y re.match() hacen cosas semejantes\n",
    "# re.search() localiza una expresión regular y la devuelve si la encuentra\n",
    "\n",
    "import re"
   ]
  },
  {
   "cell_type": "code",
   "execution_count": 49,
   "metadata": {},
   "outputs": [
    {
     "data": {
      "text/plain": [
       "<re.Match object; span=(17, 34), match='expresion regular'>"
      ]
     },
     "execution_count": 49,
     "metadata": {},
     "output_type": "execute_result"
    }
   ],
   "source": [
    "re.search(\"expresion regular\", \"El literal es la expresion regular mas sencilla\")"
   ]
  },
  {
   "cell_type": "code",
   "execution_count": 50,
   "metadata": {},
   "outputs": [
    {
     "data": {
      "text/plain": [
       "<re.Match object; span=(17, 34), match='expresion regular'>"
      ]
     },
     "execution_count": 50,
     "metadata": {},
     "output_type": "execute_result"
    }
   ],
   "source": [
    "re.search(\".xpresion regular\", \"El literal es la expresion regular mas sencilla\") # El punto se puede susbstituir por cualquier caracter"
   ]
  },
  {
   "cell_type": "code",
   "execution_count": 51,
   "metadata": {},
   "outputs": [],
   "source": [
    "re.search(\"^xpresion regular\", \"El literal es la expresion regular mas sencilla\") # no coincide porque no encuentra"
   ]
  },
  {
   "cell_type": "code",
   "execution_count": 52,
   "metadata": {},
   "outputs": [
    {
     "data": {
      "text/plain": [
       "<re.Match object; span=(0, 10), match='El literal'>"
      ]
     },
     "execution_count": 52,
     "metadata": {},
     "output_type": "execute_result"
    }
   ],
   "source": [
    "re.search(\"El literal\", \"El literal es la expresion regular mas sencilla\")"
   ]
  },
  {
   "cell_type": "code",
   "execution_count": 53,
   "metadata": {},
   "outputs": [
    {
     "data": {
      "text/plain": [
       "<re.Match object; span=(13, 25), match='que sencilla'>"
      ]
     },
     "execution_count": 53,
     "metadata": {},
     "output_type": "execute_result"
    }
   ],
   "source": [
    "re.search(\"que sencilla\", \"antes muerta que sencilla\")"
   ]
  },
  {
   "cell_type": "code",
   "execution_count": 55,
   "metadata": {},
   "outputs": [],
   "source": [
    "re.search(\"que sencilla$\", \"antes muerta que sencilla.\") # el dolar obliga a que se lea el último carácter de la cadena"
   ]
  },
  {
   "cell_type": "code",
   "execution_count": 58,
   "metadata": {},
   "outputs": [
    {
     "data": {
      "text/plain": [
       "<re.Match object; span=(17, 30), match='sencillaaaaaa'>"
      ]
     },
     "execution_count": 58,
     "metadata": {},
     "output_type": "execute_result"
    }
   ],
   "source": [
    "re.search(\"que sencilla\", \"antes muerta que sencilla\")"
   ]
  },
  {
   "cell_type": "code",
   "execution_count": 65,
   "metadata": {},
   "outputs": [
    {
     "data": {
      "text/plain": [
       "<re.Match object; span=(13, 24), match='que sencill'>"
      ]
     },
     "execution_count": 65,
     "metadata": {},
     "output_type": "execute_result"
    }
   ],
   "source": [
    "re.search(\"que sencilla*\", \"antes muerta que sencill\") # permite repetir cero caracteres o más"
   ]
  },
  {
   "cell_type": "code",
   "execution_count": 66,
   "metadata": {},
   "outputs": [
    {
     "data": {
      "text/plain": [
       "<re.Match object; span=(13, 27), match='que sencillaaa'>"
      ]
     },
     "execution_count": 66,
     "metadata": {},
     "output_type": "execute_result"
    }
   ],
   "source": [
    "re.search(\"que sencilla*\", \"antes muerta que sencillaaa\") # permite repetir un caracter o más"
   ]
  },
  {
   "cell_type": "code",
   "execution_count": 67,
   "metadata": {},
   "outputs": [
    {
     "data": {
      "text/plain": [
       "<re.Match object; span=(13, 24), match='que sencill'>"
      ]
     },
     "execution_count": 67,
     "metadata": {},
     "output_type": "execute_result"
    }
   ],
   "source": [
    "re.search(\"que sencilla?$\", \"antes muerta que sencill\") # ? uno o cero"
   ]
  },
  {
   "cell_type": "raw",
   "metadata": {
    "vscode": {
     "languageId": "raw"
    }
   },
   "source": [
    "Con llaves: \n",
    "{m,n} repeticiones entre m y n\n",
    "Si no ponemos la m es cero y si no ponemos la n es infinito\n",
    "Equivalen a: \n",
    "* = {  ,  }\n",
    "+ = { 1 ,  }\n",
    "? = { 0 , 1 }\n",
    "{n} = {n,n}"
   ]
  },
  {
   "cell_type": "code",
   "execution_count": 74,
   "metadata": {},
   "outputs": [
    {
     "data": {
      "text/plain": [
       "<re.Match object; span=(13, 28), match='que sencillaaaa'>"
      ]
     },
     "execution_count": 74,
     "metadata": {},
     "output_type": "execute_result"
    }
   ],
   "source": [
    "re.search(\"que sencilla{3,5}$\", \"antes muerta que sencillaaaa\")"
   ]
  },
  {
   "cell_type": "code",
   "execution_count": 77,
   "metadata": {},
   "outputs": [
    {
     "data": {
      "text/plain": [
       "<re.Match object; span=(13, 25), match='que sencilli'>"
      ]
     },
     "execution_count": 77,
     "metadata": {},
     "output_type": "execute_result"
    }
   ],
   "source": [
    "# [aoi]\n",
    "# Son las aceptadas\n",
    "re.search(\"que sencill[aoi]\", \"antes muerta que sencilla\")\n",
    "re.search(\"que sencill[aoi]\", \"antes muerta que sencillo\")\n",
    "re.search(\"que sencill[aoi]\", \"antes muerta que sencilli\")"
   ]
  },
  {
   "cell_type": "code",
   "execution_count": 90,
   "metadata": {},
   "outputs": [
    {
     "data": {
      "text/plain": [
       "<re.Match object; span=(17, 25), match='sencilla'>"
      ]
     },
     "execution_count": 90,
     "metadata": {},
     "output_type": "execute_result"
    }
   ],
   "source": [
    "re.search(\"sencill[^eu]\", \"antes muerta que sencilla\") # para excluir"
   ]
  },
  {
   "cell_type": "code",
   "execution_count": 88,
   "metadata": {},
   "outputs": [],
   "source": [
    "re.search(\"sencill(e)\", \"antes muerta que sencill(e)\")"
   ]
  },
  {
   "cell_type": "code",
   "execution_count": 91,
   "metadata": {},
   "outputs": [
    {
     "data": {
      "text/plain": [
       "<re.Match object; span=(17, 25), match='sencille'>"
      ]
     },
     "execution_count": 91,
     "metadata": {},
     "output_type": "execute_result"
    }
   ],
   "source": [
    "re.search(\"sencill(e)\", \"antes muerta que sencille\")"
   ]
  },
  {
   "cell_type": "code",
   "execution_count": 93,
   "metadata": {},
   "outputs": [
    {
     "data": {
      "text/plain": [
       "<re.Match object; span=(17, 27), match='sencill(e)'>"
      ]
     },
     "execution_count": 93,
     "metadata": {},
     "output_type": "execute_result"
    }
   ],
   "source": [
    "re.search(\"sencill\\\\(e\\\\)\", \"antes muerta que sencill(e)\") # para que detecte los paréntesis "
   ]
  },
  {
   "cell_type": "code",
   "execution_count": 96,
   "metadata": {},
   "outputs": [
    {
     "data": {
      "text/plain": [
       "<re.Match object; span=(0, 15), match='https:\\\\\\\\upc.edu'>"
      ]
     },
     "execution_count": 96,
     "metadata": {},
     "output_type": "execute_result"
    }
   ],
   "source": [
    "re.search(\"https:\\\\\\\\\\\\\\\\upc.edu\", \"https:\\\\\\\\upc.edu\\\\eseiaat\")"
   ]
  },
  {
   "cell_type": "code",
   "execution_count": 98,
   "metadata": {},
   "outputs": [
    {
     "name": "stderr",
     "output_type": "stream",
     "text": [
      "<>:1: SyntaxWarning: invalid escape sequence '\\e'\n",
      "<>:1: SyntaxWarning: invalid escape sequence '\\e'\n",
      "/tmp/ipykernel_16050/3301069849.py:1: SyntaxWarning: invalid escape sequence '\\e'\n",
      "  re.search(r\"https:\\\\\\\\upc.edu\", \"https:\\\\upc.edu\\eseiaat\")\n"
     ]
    }
   ],
   "source": [
    "re.search(r\"https:\\\\\\\\upc.edu\", \"https:\\\\upc.edu\\eseiaat\")"
   ]
  },
  {
   "cell_type": "code",
   "execution_count": null,
   "metadata": {},
   "outputs": [],
   "source": []
  }
 ],
 "metadata": {
  "kernelspec": {
   "display_name": ".venv",
   "language": "python",
   "name": "python3"
  },
  "language_info": {
   "codemirror_mode": {
    "name": "ipython",
    "version": 3
   },
   "file_extension": ".py",
   "mimetype": "text/x-python",
   "name": "python",
   "nbconvert_exporter": "python",
   "pygments_lexer": "ipython3",
   "version": "3.12.3"
  }
 },
 "nbformat": 4,
 "nbformat_minor": 2
}
