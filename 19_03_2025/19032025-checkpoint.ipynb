{
 "cells": [
  {
   "cell_type": "code",
   "execution_count": 1,
   "id": "5513aec5-81f2-439f-a35e-ef6b51735e9b",
   "metadata": {},
   "outputs": [
    {
     "ename": "ZeroDivisionError",
     "evalue": "division by zero",
     "output_type": "error",
     "traceback": [
      "\u001b[1;31m---------------------------------------------------------------------------\u001b[0m",
      "\u001b[1;31mZeroDivisionError\u001b[0m                         Traceback (most recent call last)",
      "Cell \u001b[1;32mIn[1], line 1\u001b[0m\n\u001b[1;32m----> 1\u001b[0m \u001b[38;5;241;43m1\u001b[39;49m\u001b[38;5;241;43m/\u001b[39;49m\u001b[38;5;241;43m0\u001b[39;49m\n",
      "\u001b[1;31mZeroDivisionError\u001b[0m: division by zero"
     ]
    }
   ],
   "source": [
    "1/0"
   ]
  },
  {
   "cell_type": "code",
   "execution_count": 2,
   "id": "3c1aebbc-596b-4771-bdb8-666ecaad08c1",
   "metadata": {},
   "outputs": [
    {
     "name": "stdout",
     "output_type": "stream",
     "text": [
      "The Zen of Python, by Tim Peters\n",
      "\n",
      "Beautiful is better than ugly.\n",
      "Explicit is better than implicit.\n",
      "Simple is better than complex.\n",
      "Complex is better than complicated.\n",
      "Flat is better than nested.\n",
      "Sparse is better than dense.\n",
      "Readability counts.\n",
      "Special cases aren't special enough to break the rules.\n",
      "Although practicality beats purity.\n",
      "Errors should never pass silently.\n",
      "Unless explicitly silenced.\n",
      "In the face of ambiguity, refuse the temptation to guess.\n",
      "There should be one-- and preferably only one --obvious way to do it.\n",
      "Although that way may not be obvious at first unless you're Dutch.\n",
      "Now is better than never.\n",
      "Although never is often better than *right* now.\n",
      "If the implementation is hard to explain, it's a bad idea.\n",
      "If the implementation is easy to explain, it may be a good idea.\n",
      "Namespaces are one honking great idea -- let's do more of those!\n"
     ]
    }
   ],
   "source": [
    "import this"
   ]
  },
  {
   "cell_type": "code",
   "execution_count": 9,
   "id": "cf775f26-97ca-437f-b4cd-9c74e74bf0f4",
   "metadata": {},
   "outputs": [],
   "source": [
    "exec(open('peta.py').read())"
   ]
  },
  {
   "cell_type": "code",
   "execution_count": 10,
   "id": "64d81272-84cf-46b1-8ad4-b6c1c2cd9442",
   "metadata": {},
   "outputs": [
    {
     "data": {
      "text/plain": [
       "7.75"
      ]
     },
     "execution_count": 10,
     "metadata": {},
     "output_type": "execute_result"
    }
   ],
   "source": [
    "peta(31, 4)"
   ]
  },
  {
   "cell_type": "code",
   "execution_count": 11,
   "id": "c6684615-5250-420b-a9e6-630ef58ade77",
   "metadata": {},
   "outputs": [
    {
     "ename": "ZeroDivisionError",
     "evalue": "division by zero",
     "output_type": "error",
     "traceback": [
      "\u001b[1;31m---------------------------------------------------------------------------\u001b[0m",
      "\u001b[1;31mZeroDivisionError\u001b[0m                         Traceback (most recent call last)",
      "Cell \u001b[1;32mIn[11], line 1\u001b[0m\n\u001b[1;32m----> 1\u001b[0m \u001b[43mpeta\u001b[49m\u001b[43m(\u001b[49m\u001b[38;5;241;43m31\u001b[39;49m\u001b[43m,\u001b[49m\u001b[43m \u001b[49m\u001b[38;5;241;43m0\u001b[39;49m\u001b[43m)\u001b[49m\n",
      "File \u001b[1;32m<string>:6\u001b[0m, in \u001b[0;36mpeta\u001b[1;34m(x, y)\u001b[0m\n",
      "File \u001b[1;32m<string>:9\u001b[0m, in \u001b[0;36mpeta2\u001b[1;34m(x, y)\u001b[0m\n",
      "File \u001b[1;32m<string>:12\u001b[0m, in \u001b[0;36mpeta3\u001b[1;34m(x, y)\u001b[0m\n",
      "File \u001b[1;32m<string>:2\u001b[0m, in \u001b[0;36mdivide\u001b[1;34m(x, y)\u001b[0m\n",
      "\u001b[1;31mZeroDivisionError\u001b[0m: division by zero"
     ]
    }
   ],
   "source": [
    "peta(31, 0)"
   ]
  },
  {
   "cell_type": "code",
   "execution_count": null,
   "id": "0f1d497d-8ad7-43bc-a831-e75b4832927c",
   "metadata": {},
   "outputs": [],
   "source": [
    "#cuando se hace con exec en vez de en import, el traceback ha petado en alguna cadena, no nos dice donde está el error"
   ]
  },
  {
   "cell_type": "code",
   "execution_count": 12,
   "id": "da358e7f-4547-4e25-a88a-2b83f15401de",
   "metadata": {},
   "outputs": [
    {
     "data": {
      "text/plain": [
       "(6.123233995736766e-17+1j)"
      ]
     },
     "execution_count": 12,
     "metadata": {},
     "output_type": "execute_result"
    }
   ],
   "source": [
    "(-1)**0.5"
   ]
  },
  {
   "cell_type": "code",
   "execution_count": 13,
   "id": "e41e97e6-91b4-4426-b22e-355d9a042a66",
   "metadata": {},
   "outputs": [],
   "source": [
    "import numpy as np"
   ]
  },
  {
   "cell_type": "code",
   "execution_count": 14,
   "id": "aef5dd27-5bc6-42ee-99e3-e7d7b6c40915",
   "metadata": {},
   "outputs": [
    {
     "name": "stderr",
     "output_type": "stream",
     "text": [
      "C:\\Users\\montserrat.cuevas\\AppData\\Local\\Temp\\ipykernel_8412\\2933082444.py:1: RuntimeWarning: divide by zero encountered in log\n",
      "  np.log(0)\n"
     ]
    },
    {
     "data": {
      "text/plain": [
       "-inf"
      ]
     },
     "execution_count": 14,
     "metadata": {},
     "output_type": "execute_result"
    }
   ],
   "source": [
    "np.log(0)"
   ]
  },
  {
   "cell_type": "code",
   "execution_count": 15,
   "id": "d79cc42c-d5af-4f60-87a6-3947d1e7b90a",
   "metadata": {},
   "outputs": [
    {
     "name": "stderr",
     "output_type": "stream",
     "text": [
      "C:\\Users\\montserrat.cuevas\\AppData\\Local\\Temp\\ipykernel_8412\\153577755.py:1: RuntimeWarning: invalid value encountered in log\n",
      "  np.log(-1)\n"
     ]
    },
    {
     "data": {
      "text/plain": [
       "nan"
      ]
     },
     "execution_count": 15,
     "metadata": {},
     "output_type": "execute_result"
    }
   ],
   "source": [
    "np.log(-1)"
   ]
  },
  {
   "cell_type": "code",
   "execution_count": 16,
   "id": "c6a1b20d-dfcc-4f41-8bbb-4784c9e70bd5",
   "metadata": {},
   "outputs": [],
   "source": [
    "a = {}"
   ]
  },
  {
   "cell_type": "code",
   "execution_count": 17,
   "id": "44837c17-cc82-42e3-a404-d4d2efd510b6",
   "metadata": {},
   "outputs": [
    {
     "ename": "KeyError",
     "evalue": "3",
     "output_type": "error",
     "traceback": [
      "\u001b[1;31m---------------------------------------------------------------------------\u001b[0m",
      "\u001b[1;31mKeyError\u001b[0m                                  Traceback (most recent call last)",
      "Cell \u001b[1;32mIn[17], line 1\u001b[0m\n\u001b[1;32m----> 1\u001b[0m \u001b[43ma\u001b[49m\u001b[43m[\u001b[49m\u001b[38;5;241;43m3\u001b[39;49m\u001b[43m]\u001b[49m\n",
      "\u001b[1;31mKeyError\u001b[0m: 3"
     ]
    }
   ],
   "source": [
    "a[3]"
   ]
  },
  {
   "cell_type": "code",
   "execution_count": 19,
   "id": "c973a456-3030-404e-89c7-5f85d28d122a",
   "metadata": {},
   "outputs": [
    {
     "ename": "KeyError",
     "evalue": "",
     "output_type": "error",
     "traceback": [
      "\u001b[1;31m---------------------------------------------------------------------------\u001b[0m",
      "\u001b[1;31mKeyError\u001b[0m                                  Traceback (most recent call last)",
      "Cell \u001b[1;32mIn[19], line 2\u001b[0m\n\u001b[0;32m      1\u001b[0m \u001b[38;5;66;03m#raise nos permite elevar cualquier excepción\u001b[39;00m\n\u001b[1;32m----> 2\u001b[0m \u001b[38;5;28;01mraise\u001b[39;00m \u001b[38;5;167;01mKeyError\u001b[39;00m\n",
      "\u001b[1;31mKeyError\u001b[0m: "
     ]
    }
   ],
   "source": [
    "#raise nos permite elevar cualquier excepción\n",
    "raise KeyError"
   ]
  },
  {
   "cell_type": "code",
   "execution_count": 21,
   "id": "9fb43c35-4b97-4d04-8017-e5ee9ebd060b",
   "metadata": {},
   "outputs": [
    {
     "ename": "KeyError",
     "evalue": "'porque lo dice Juan'",
     "output_type": "error",
     "traceback": [
      "\u001b[1;31m---------------------------------------------------------------------------\u001b[0m",
      "\u001b[1;31mKeyError\u001b[0m                                  Traceback (most recent call last)",
      "Cell \u001b[1;32mIn[21], line 1\u001b[0m\n\u001b[1;32m----> 1\u001b[0m \u001b[38;5;28;01mraise\u001b[39;00m \u001b[38;5;167;01mKeyError\u001b[39;00m(\u001b[38;5;124m'\u001b[39m\u001b[38;5;124mporque lo dice Juan\u001b[39m\u001b[38;5;124m'\u001b[39m)\n",
      "\u001b[1;31mKeyError\u001b[0m: 'porque lo dice Juan'"
     ]
    }
   ],
   "source": [
    "raise KeyError('porque lo dice Juan')"
   ]
  },
  {
   "cell_type": "code",
   "execution_count": 22,
   "id": "9cc59354-7a7e-4ae5-b4d4-a0e6c1e72d29",
   "metadata": {},
   "outputs": [
    {
     "ename": "StopIteration",
     "evalue": "",
     "output_type": "error",
     "traceback": [
      "\u001b[1;31m---------------------------------------------------------------------------\u001b[0m",
      "\u001b[1;31mStopIteration\u001b[0m                             Traceback (most recent call last)",
      "Cell \u001b[1;32mIn[22], line 1\u001b[0m\n\u001b[1;32m----> 1\u001b[0m \u001b[38;5;28;01mraise\u001b[39;00m \u001b[38;5;167;01mStopIteration\u001b[39;00m\n",
      "\u001b[1;31mStopIteration\u001b[0m: "
     ]
    }
   ],
   "source": [
    "raise StopIteration"
   ]
  },
  {
   "cell_type": "code",
   "execution_count": 23,
   "id": "7e60203f-e17f-4dea-8db5-ebe89034ffb4",
   "metadata": {},
   "outputs": [
    {
     "ename": "NameError",
     "evalue": "name 'Juan' is not defined",
     "output_type": "error",
     "traceback": [
      "\u001b[1;31m---------------------------------------------------------------------------\u001b[0m",
      "\u001b[1;31mNameError\u001b[0m                                 Traceback (most recent call last)",
      "Cell \u001b[1;32mIn[23], line 1\u001b[0m\n\u001b[1;32m----> 1\u001b[0m \u001b[38;5;28;01mraise\u001b[39;00m \u001b[43mJuan\u001b[49m\n",
      "\u001b[1;31mNameError\u001b[0m: name 'Juan' is not defined"
     ]
    }
   ],
   "source": [
    "raise Juan"
   ]
  },
  {
   "cell_type": "code",
   "execution_count": 24,
   "id": "9da9a445-2915-4722-b76b-ac2175b650be",
   "metadata": {},
   "outputs": [
    {
     "ename": "Exception",
     "evalue": "porque lo dice Albino",
     "output_type": "error",
     "traceback": [
      "\u001b[1;31m---------------------------------------------------------------------------\u001b[0m",
      "\u001b[1;31mException\u001b[0m                                 Traceback (most recent call last)",
      "Cell \u001b[1;32mIn[24], line 1\u001b[0m\n\u001b[1;32m----> 1\u001b[0m \u001b[38;5;28;01mraise\u001b[39;00m \u001b[38;5;167;01mException\u001b[39;00m(\u001b[38;5;124m'\u001b[39m\u001b[38;5;124mporque lo dice Albino\u001b[39m\u001b[38;5;124m'\u001b[39m)\n",
      "\u001b[1;31mException\u001b[0m: porque lo dice Albino"
     ]
    }
   ],
   "source": [
    "raise Exception('porque lo dice Albino')"
   ]
  },
  {
   "cell_type": "code",
   "execution_count": 29,
   "id": "44921cbd-1156-45bd-8043-96bdfd13e175",
   "metadata": {},
   "outputs": [
    {
     "name": "stdout",
     "output_type": "stream",
     "text": [
      "todo ok\n"
     ]
    }
   ],
   "source": [
    "try:\n",
    "    1/2\n",
    "except (ZeroDivisionError, SyntaxError, KeyError) as excepcion:\n",
    "    print('error de sintaxis', excepcion)\n",
    "else:\n",
    "    print('todo ok')"
   ]
  },
  {
   "cell_type": "code",
   "execution_count": 1,
   "id": "7030d653-37f6-4235-adb4-931ea8edf7a2",
   "metadata": {},
   "outputs": [],
   "source": [
    "colors = ['red', 'blue', 'red']"
   ]
  },
  {
   "cell_type": "code",
   "execution_count": 4,
   "id": "8122a8b5-aa8a-462b-8eaf-0667f61d26c5",
   "metadata": {},
   "outputs": [
    {
     "name": "stdout",
     "output_type": "stream",
     "text": [
      "red\n",
      "blue\n",
      "red\n"
     ]
    }
   ],
   "source": [
    "for color in colors:\n",
    "  print (color)"
   ]
  },
  {
   "cell_type": "code",
   "execution_count": null,
   "id": "cd8f9e9d-3dda-45c2-8b5c-04d2422bb9df",
   "metadata": {},
   "outputs": [
    {
     "name": "stdout",
     "output_type": "stream",
     "text": [
      "red\n",
      "blue\n",
      "red\n"
     ]
    }
   ],
   "source": [
    "iterador = iter(colors)\n",
    "while True:\n",
    "    try:\n",
    "        print(next(iterador))\n",
    "    except StopIteration:\n",
    "        pass"
   ]
  },
  {
   "cell_type": "code",
   "execution_count": null,
   "id": "7301b732-c558-4aab-9e9f-49178f7378ac",
   "metadata": {},
   "outputs": [],
   "source": []
  }
 ],
 "metadata": {
  "kernelspec": {
   "display_name": "Python 3 (ipykernel)",
   "language": "python",
   "name": "python3"
  },
  "language_info": {
   "codemirror_mode": {
    "name": "ipython",
    "version": 3
   },
   "file_extension": ".py",
   "mimetype": "text/x-python",
   "name": "python",
   "nbconvert_exporter": "python",
   "pygments_lexer": "ipython3",
   "version": "3.12.4"
  }
 },
 "nbformat": 4,
 "nbformat_minor": 5
}
