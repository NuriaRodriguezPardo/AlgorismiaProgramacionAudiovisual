{
 "cells": [
  {
   "cell_type": "markdown",
   "metadata": {},
   "source": [
    "# Aplicación\n",
    "## Tkinter\n",
    "\n",
    "**Opciones:**\n",
    "```raw\n",
    "    gatito 1\n",
    "    gatito 2\n",
    "    gatito 3\n",
    "    rata\n",
    "```\n",
    "\n",
    "Són de tipo ``radiobutton`` . Si se selecciona una opción, se deselecciona la otra.    \n",
    "``value`` y ``variable``, quando se usan, deben ser iguales. Si no, se pondrà a 0. (no se marcarà).\n",
    "\n",
    "MUTABLES: Del tipo ``IntVar``, ``DoubleVar``, ``StrVar`` y ``booleanVar``.    \n",
    "``set()`` -> dar valor     \n",
    "``get()`` -> obtener valor      "
   ]
  },
  {
   "cell_type": "code",
   "execution_count": 8,
   "metadata": {},
   "outputs": [
    {
     "name": "stdout",
     "output_type": "stream",
     "text": [
      "1\n"
     ]
    }
   ],
   "source": [
    "import tkinter as tk\n",
    "from tkinter import ttk\n",
    "\n",
    "def muestra_mascota(label, imagen):\n",
    "    def muestra():\n",
    "        label.configure(image = imagen)\n",
    "    return muestra\n",
    "\n",
    "\n",
    "\n",
    "def escoge_mascota(raiz, mascotas, var_mascota):\n",
    "    marco_sel = ttk.LabelFrame(raiz, text = 'Escoge tu mascota favorita: ', labelanchor = tk.N)\n",
    "    marco_sel.pack(side = tk.LEFT, anchor = tk.N)\n",
    "\n",
    "    marco_vis = ttk.Frame(raiz)\n",
    "    marco_vis.pack(side = tk.LEFT)  \n",
    "\n",
    "    label_vis = ttk.Label(marco_vis)\n",
    "    label_vis.pack()\n",
    "\n",
    "    for value, mascota in enumerate(mascotas): \n",
    "        imagen = tk.PhotoImage(file = mascota[1])\n",
    "        radio = ttk.Radiobutton(marco_sel, text = mascota[0], value = value, variable = var_mascota, \n",
    "                                command = muestra_mascota(label_vis, imagen))\n",
    "        radio.pack()\n",
    "    \n",
    "    terminar = ttk.Button(marco_sel, text = 'terminar', command = raiz.destroy)\n",
    "    terminar.pack(side = tk.BOTTOM)\n",
    "\n",
    "def main(): \n",
    "    win = tk.Tk()\n",
    "    ttk.Style().configure('.', font = ('Arial', 16), background = 'cornflower blue', padding = 8)\n",
    "    mascotas = (\n",
    "        ('Lindo gatito 1', 'mascotas/gatito1.png'), \n",
    "        ('Lindo gatito 2', 'mascotas/gatito2.png'), \n",
    "        ('Lindo gatito 3', 'mascotas/gatito3.png'), \n",
    "        ('Rata inmunda', 'mascotas/rata.png'), \n",
    "    )\n",
    "\n",
    "    var_mascota = tk.IntVar(value = -1)\n",
    "    escoge_mascota(win, mascotas, var_mascota)\n",
    "    win.mainloop()\n",
    "    return var_mascota\n",
    "\n",
    "if __name__ == '__main__': \n",
    "    var_mascota = main()\n",
    "    print(var_mascota.get())"
   ]
  },
  {
   "cell_type": "code",
   "execution_count": 3,
   "metadata": {},
   "outputs": [
    {
     "name": "stdout",
     "output_type": "stream",
     "text": [
      "0.6\n"
     ]
    }
   ],
   "source": [
    "# Deslizador, sólo pide un argumento. Posición dónde está el deslizador.\n",
    "import tkinter as tk\n",
    "from tkinter import ttk\n",
    "\n",
    "def volum (arrel, varVolum):\n",
    "    marcVolum = ttk.LabelFrame(arrel, text = 'Volum', padding = 8)\n",
    "    marcVolum.pack()\n",
    "    volum = ttk.Scale(marcVolum, from_ = 0, to = 1, length = 200, value = 0.6)\n",
    "    volum.pack()\n",
    "\n",
    "def main(): \n",
    "    win = tk.Tk()\n",
    "    ttk.Style().configure('.', font = ('Arial', 16), padding = 8, background = 'cornflower blue')\n",
    "    var_volum = tk.DoubleVar(value = 0.6)\n",
    "    volum(win, var_volum)\n",
    "    win.mainloop()\n",
    "\n",
    "    return var_volum\n",
    "\n",
    "if __name__ == '__main__':\n",
    "    var_volum = main()\n",
    "    print(var_volum.get())  # Imprime el valor del deslizador\n"
   ]
  },
  {
   "cell_type": "code",
   "execution_count": 6,
   "metadata": {},
   "outputs": [
    {
     "ename": "ModuleNotFoundError",
     "evalue": "No module named 'soundfile'",
     "output_type": "error",
     "traceback": [
      "\u001b[0;31m---------------------------------------------------------------------------\u001b[0m",
      "\u001b[0;31mModuleNotFoundError\u001b[0m                       Traceback (most recent call last)",
      "Cell \u001b[0;32mIn[6], line 17\u001b[0m\n\u001b[1;32m     13\u001b[0m         \u001b[38;5;28mself\u001b[39m\u001b[38;5;241m.\u001b[39mfm \u001b[38;5;241m=\u001b[39m fm\n\u001b[1;32m     16\u001b[0m \u001b[38;5;28;01mfrom\u001b[39;00m \u001b[38;5;21;01mtkinter\u001b[39;00m\u001b[38;5;21;01m.\u001b[39;00m\u001b[38;5;21;01mfiledialog\u001b[39;00m \u001b[38;5;28;01mimport\u001b[39;00m askopenfilename \n\u001b[0;32m---> 17\u001b[0m \u001b[38;5;28;01mimport\u001b[39;00m \u001b[38;5;21;01msoundfile\u001b[39;00m \u001b[38;5;28;01mas\u001b[39;00m \u001b[38;5;21;01msf\u001b[39;00m\n\u001b[1;32m     19\u001b[0m \u001b[38;5;28;01mdef\u001b[39;00m \u001b[38;5;21mselect_audio\u001b[39m(raiz, var_audio):\n\u001b[1;32m     20\u001b[0m     var_mensaje \u001b[38;5;241m=\u001b[39m tk\u001b[38;5;241m.\u001b[39mStringVar(var_audio, \u001b[38;5;124m'\u001b[39m\u001b[38;5;124mselecciona una canción\u001b[39m\u001b[38;5;124m'\u001b[39m)\n",
      "\u001b[0;31mModuleNotFoundError\u001b[0m: No module named 'soundfile'"
     ]
    }
   ],
   "source": [
    "# Reproductor de audio \n",
    "\n",
    "class Audio(tk.Variable): \n",
    "    def __init__(self):\n",
    "        self.audio = None\n",
    "        self.fm = -1\n",
    "    \n",
    "    def get(self):\n",
    "        return self.audio, self.fm\n",
    "    \n",
    "    def set(self, audio, fm):\n",
    "        self.audio = audio\n",
    "        self.fm = fm\n",
    "\n",
    "\n",
    "from tkinter.filedialog import askopenfilename \n",
    "import soundfile as sf\n",
    "\n",
    "def select_audio(raiz, var_audio):\n",
    "    var_mensaje = tk.StringVar(var_audio, 'selecciona una canción')\n",
    "    def select_audio():\n",
    "        fichero = askopenfilename(title = 'selecciona una canción', \n",
    "                                  filetypes = (('ficheros de audio', '.mp3 .wav .flac'), ('todos los ficheros', '*.*')))\n",
    "        if fichero:\n",
    "            var_mensaje.set(fichero)\n",
    "            señal, fm = sf.read(fichero)\n",
    "            var_audio.set(señal, fm)\n",
    "    boton = tk.Button(raiz, textvariable = var_mensaje, command = select_audio)\n",
    "    boton.pack()\n",
    "\n",
    "import sounddevice as sd \n",
    "\n",
    "def reproduce(var_audio, var_volum): \n",
    "    audio, fm = var_audio.get()\n",
    "    sd.play(audio*var_volum.get(), fm, Blocking = False)\n",
    "\n",
    "def reproduce_para_sal(raiz, var_audio, var_volumen): \n",
    "    marco = ttk.Frame(raiz)\n",
    "    marco.pack(side = tk.BOTTOM) \n",
    "    repro = ttk.Button(marco, text = 'play', command = lambda: reproduce(var_audio, var_volumen))\n",
    "    repro.pack(side = tk.LEFT)\n",
    "    # repro = ttk.Button(marco, text = 'play', command = lambda: reproduce(var_audio, var_volumen)).pack(side = tk.LEFT)\n",
    "    # Aquí si que lo podríamos hacer \n",
    "\n",
    "    ttk.Button(marco, text = 'stop', command = sd.stop).pack(side = tk.LEFT) # aquí también\n",
    "\n",
    "    ttk.Button(marco, text = 'quit', command = raiz.destroy).pacl(side = tk.LEFT) # y aquí\n",
    "\n",
    "def main():\n",
    "    win = tk.Tk()\n",
    "    win.title('súper reproductor de audio')\n",
    "    win.geometry('600x200') # se pone en píxeles.\n",
    "    win.configure(background = 'Lavender Blush')\n",
    "    ttk.style().configure('.', font = ('Arial', 16), background = 'Lavender Blush', padding = 8)\n",
    "    var_audio = Audio()\n",
    "    var_volumen = tk.DoubleVar(win, 0.6)\n",
    "    select_audio(win, var_audio)\n",
    "    reproduce_para_sal(win, var_audio, var_volumen)\n",
    "    volumen(var_volumen) \n",
    "    win.mainloop()\n",
    "\n",
    "if __name__ == '__main__':\n",
    "    main()\n"
   ]
  },
  {
   "cell_type": "code",
   "execution_count": null,
   "metadata": {},
   "outputs": [],
   "source": []
  }
 ],
 "metadata": {
  "kernelspec": {
   "display_name": "Python 3",
   "language": "python",
   "name": "python3"
  },
  "language_info": {
   "codemirror_mode": {
    "name": "ipython",
    "version": 3
   },
   "file_extension": ".py",
   "mimetype": "text/x-python",
   "name": "python",
   "nbconvert_exporter": "python",
   "pygments_lexer": "ipython3",
   "version": "3.12.3"
  }
 },
 "nbformat": 4,
 "nbformat_minor": 2
}
